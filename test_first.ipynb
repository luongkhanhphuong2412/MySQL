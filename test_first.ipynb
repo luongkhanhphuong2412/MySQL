{
 "cells": [
  {
   "cell_type": "markdown",
   "metadata": {},
   "source": [
    "# Install MySQL connector module\n",
    "pip install mysql-connector-python"
   ]
  },
  {
   "cell_type": "code",
   "execution_count": 3,
   "metadata": {},
   "outputs": [],
   "source": [
    "# importing required libraries\n",
    "import mysql.connector"
   ]
  },
  {
   "cell_type": "code",
   "execution_count": 26,
   "metadata": {},
   "outputs": [
    {
     "name": "stdout",
     "output_type": "stream",
     "text": [
      "<mysql.connector.connection_cext.CMySQLConnection object at 0x0000021E1408A8D0>\n"
     ]
    }
   ],
   "source": [
    "database = mysql.connector.connect(\n",
    "  host =\"localhost\",\n",
    "  user =\"root\",\n",
    "  passwd =\"24122004\"\n",
    ")\n",
    " \n",
    "print(database)"
   ]
  },
  {
   "cell_type": "code",
   "execution_count": 27,
   "metadata": {},
   "outputs": [],
   "source": [
    "# preparing a cursor object\n",
    "cursorObject = database.cursor()"
   ]
  },
  {
   "cell_type": "code",
   "execution_count": 28,
   "metadata": {},
   "outputs": [
    {
     "ename": "DatabaseError",
     "evalue": "1007 (HY000): Can't create database 'student_information'; database exists",
     "output_type": "error",
     "traceback": [
      "\u001b[1;31m---------------------------------------------------------------------------\u001b[0m",
      "\u001b[1;31mMySQLInterfaceError\u001b[0m                       Traceback (most recent call last)",
      "File \u001b[1;32mc:\\Users\\ADMIN\\AppData\\Local\\Programs\\Python\\Python311\\Lib\\site-packages\\mysql\\connector\\connection_cext.py:633\u001b[0m, in \u001b[0;36mCMySQLConnection.cmd_query\u001b[1;34m(self, query, raw, buffered, raw_as_string)\u001b[0m\n\u001b[0;32m    632\u001b[0m         query \u001b[39m=\u001b[39m query\u001b[39m.\u001b[39mencode(\u001b[39m\"\u001b[39m\u001b[39mutf-8\u001b[39m\u001b[39m\"\u001b[39m)\n\u001b[1;32m--> 633\u001b[0m     \u001b[39mself\u001b[39;49m\u001b[39m.\u001b[39;49m_cmysql\u001b[39m.\u001b[39;49mquery(\n\u001b[0;32m    634\u001b[0m         query,\n\u001b[0;32m    635\u001b[0m         raw\u001b[39m=\u001b[39;49mraw,\n\u001b[0;32m    636\u001b[0m         buffered\u001b[39m=\u001b[39;49mbuffered,\n\u001b[0;32m    637\u001b[0m         raw_as_string\u001b[39m=\u001b[39;49mraw_as_string,\n\u001b[0;32m    638\u001b[0m         query_attrs\u001b[39m=\u001b[39;49m\u001b[39mself\u001b[39;49m\u001b[39m.\u001b[39;49mquery_attrs,\n\u001b[0;32m    639\u001b[0m     )\n\u001b[0;32m    640\u001b[0m \u001b[39mexcept\u001b[39;00m MySQLInterfaceError \u001b[39mas\u001b[39;00m err:\n",
      "\u001b[1;31mMySQLInterfaceError\u001b[0m: Can't create database 'student_information'; database exists",
      "\nThe above exception was the direct cause of the following exception:\n",
      "\u001b[1;31mDatabaseError\u001b[0m                             Traceback (most recent call last)",
      "\u001b[1;32md:\\MySQL\\test_first.ipynb Cell 5\u001b[0m line \u001b[0;36m2\n\u001b[0;32m      <a href='vscode-notebook-cell:/d%3A/MySQL/test_first.ipynb#W4sZmlsZQ%3D%3D?line=0'>1</a>\u001b[0m \u001b[39m# Create databse\u001b[39;00m\n\u001b[1;32m----> <a href='vscode-notebook-cell:/d%3A/MySQL/test_first.ipynb#W4sZmlsZQ%3D%3D?line=1'>2</a>\u001b[0m cursorObject\u001b[39m.\u001b[39;49mexecute(\u001b[39m\"\u001b[39;49m\u001b[39mCREATE DATABASE STUDENT_INFORMATION\u001b[39;49m\u001b[39m\"\u001b[39;49m)\n",
      "File \u001b[1;32mc:\\Users\\ADMIN\\AppData\\Local\\Programs\\Python\\Python311\\Lib\\site-packages\\mysql\\connector\\cursor_cext.py:330\u001b[0m, in \u001b[0;36mCMySQLCursor.execute\u001b[1;34m(self, operation, params, multi)\u001b[0m\n\u001b[0;32m    325\u001b[0m             \u001b[39mraise\u001b[39;00m ProgrammingError(\n\u001b[0;32m    326\u001b[0m                 \u001b[39m\"\u001b[39m\u001b[39mNot all parameters were used in the SQL statement\u001b[39m\u001b[39m\"\u001b[39m\n\u001b[0;32m    327\u001b[0m             )\n\u001b[0;32m    329\u001b[0m \u001b[39mtry\u001b[39;00m:\n\u001b[1;32m--> 330\u001b[0m     result \u001b[39m=\u001b[39m \u001b[39mself\u001b[39;49m\u001b[39m.\u001b[39;49m_cnx\u001b[39m.\u001b[39;49mcmd_query(\n\u001b[0;32m    331\u001b[0m         stmt,\n\u001b[0;32m    332\u001b[0m         raw\u001b[39m=\u001b[39;49m\u001b[39mself\u001b[39;49m\u001b[39m.\u001b[39;49m_raw,\n\u001b[0;32m    333\u001b[0m         buffered\u001b[39m=\u001b[39;49m\u001b[39mself\u001b[39;49m\u001b[39m.\u001b[39;49m_buffered,\n\u001b[0;32m    334\u001b[0m         raw_as_string\u001b[39m=\u001b[39;49m\u001b[39mself\u001b[39;49m\u001b[39m.\u001b[39;49m_raw_as_string,\n\u001b[0;32m    335\u001b[0m     )\n\u001b[0;32m    336\u001b[0m \u001b[39mexcept\u001b[39;00m MySQLInterfaceError \u001b[39mas\u001b[39;00m err:\n\u001b[0;32m    337\u001b[0m     \u001b[39mraise\u001b[39;00m get_mysql_exception(\n\u001b[0;32m    338\u001b[0m         msg\u001b[39m=\u001b[39merr\u001b[39m.\u001b[39mmsg, errno\u001b[39m=\u001b[39merr\u001b[39m.\u001b[39merrno, sqlstate\u001b[39m=\u001b[39merr\u001b[39m.\u001b[39msqlstate\n\u001b[0;32m    339\u001b[0m     ) \u001b[39mfrom\u001b[39;00m \u001b[39merr\u001b[39;00m\n",
      "File \u001b[1;32mc:\\Users\\ADMIN\\AppData\\Local\\Programs\\Python\\Python311\\Lib\\site-packages\\mysql\\connector\\opentelemetry\\context_propagation.py:77\u001b[0m, in \u001b[0;36mwith_context_propagation.<locals>.wrapper\u001b[1;34m(cnx, *args, **kwargs)\u001b[0m\n\u001b[0;32m     75\u001b[0m \u001b[39m\u001b[39m\u001b[39m\"\"\"Context propagation decorator.\"\"\"\u001b[39;00m\n\u001b[0;32m     76\u001b[0m \u001b[39mif\u001b[39;00m \u001b[39mnot\u001b[39;00m OTEL_ENABLED \u001b[39mor\u001b[39;00m \u001b[39mnot\u001b[39;00m cnx\u001b[39m.\u001b[39motel_context_propagation:\n\u001b[1;32m---> 77\u001b[0m     \u001b[39mreturn\u001b[39;00m method(cnx, \u001b[39m*\u001b[39;49margs, \u001b[39m*\u001b[39;49m\u001b[39m*\u001b[39;49mkwargs)\n\u001b[0;32m     79\u001b[0m current_span \u001b[39m=\u001b[39m trace\u001b[39m.\u001b[39mget_current_span()\n\u001b[0;32m     80\u001b[0m tp_header \u001b[39m=\u001b[39m \u001b[39mNone\u001b[39;00m\n",
      "File \u001b[1;32mc:\\Users\\ADMIN\\AppData\\Local\\Programs\\Python\\Python311\\Lib\\site-packages\\mysql\\connector\\connection_cext.py:641\u001b[0m, in \u001b[0;36mCMySQLConnection.cmd_query\u001b[1;34m(self, query, raw, buffered, raw_as_string)\u001b[0m\n\u001b[0;32m    633\u001b[0m     \u001b[39mself\u001b[39m\u001b[39m.\u001b[39m_cmysql\u001b[39m.\u001b[39mquery(\n\u001b[0;32m    634\u001b[0m         query,\n\u001b[0;32m    635\u001b[0m         raw\u001b[39m=\u001b[39mraw,\n\u001b[1;32m   (...)\u001b[0m\n\u001b[0;32m    638\u001b[0m         query_attrs\u001b[39m=\u001b[39m\u001b[39mself\u001b[39m\u001b[39m.\u001b[39mquery_attrs,\n\u001b[0;32m    639\u001b[0m     )\n\u001b[0;32m    640\u001b[0m \u001b[39mexcept\u001b[39;00m MySQLInterfaceError \u001b[39mas\u001b[39;00m err:\n\u001b[1;32m--> 641\u001b[0m     \u001b[39mraise\u001b[39;00m get_mysql_exception(\n\u001b[0;32m    642\u001b[0m         err\u001b[39m.\u001b[39merrno, msg\u001b[39m=\u001b[39merr\u001b[39m.\u001b[39mmsg, sqlstate\u001b[39m=\u001b[39merr\u001b[39m.\u001b[39msqlstate\n\u001b[0;32m    643\u001b[0m     ) \u001b[39mfrom\u001b[39;00m \u001b[39merr\u001b[39;00m\n\u001b[0;32m    644\u001b[0m \u001b[39mexcept\u001b[39;00m \u001b[39mAttributeError\u001b[39;00m \u001b[39mas\u001b[39;00m err:\n\u001b[0;32m    645\u001b[0m     addr \u001b[39m=\u001b[39m (\n\u001b[0;32m    646\u001b[0m         \u001b[39mself\u001b[39m\u001b[39m.\u001b[39m_unix_socket \u001b[39mif\u001b[39;00m \u001b[39mself\u001b[39m\u001b[39m.\u001b[39m_unix_socket \u001b[39melse\u001b[39;00m \u001b[39mf\u001b[39m\u001b[39m\"\u001b[39m\u001b[39m{\u001b[39;00m\u001b[39mself\u001b[39m\u001b[39m.\u001b[39m_host\u001b[39m}\u001b[39;00m\u001b[39m:\u001b[39m\u001b[39m{\u001b[39;00m\u001b[39mself\u001b[39m\u001b[39m.\u001b[39m_port\u001b[39m}\u001b[39;00m\u001b[39m\"\u001b[39m\n\u001b[0;32m    647\u001b[0m     )\n",
      "\u001b[1;31mDatabaseError\u001b[0m: 1007 (HY000): Can't create database 'student_information'; database exists"
     ]
    }
   ],
   "source": [
    "# Create databse\n",
    "cursorObject.execute(\"CREATE DATABASE STUDENT_INFORMATION\")"
   ]
  },
  {
   "cell_type": "code",
   "execution_count": 31,
   "metadata": {},
   "outputs": [
    {
     "name": "stdout",
     "output_type": "stream",
     "text": [
      "Connected to MySQL Server version  8.1.0\n",
      "Connected to database None\n"
     ]
    }
   ],
   "source": [
    "# Connect to database: \n",
    "\n",
    "if database .is_connected():\n",
    "        db_Info = database.get_server_info()\n",
    "        print(\"Connected to MySQL Server version \", db_Info)\n",
    "        cursor = database.cursor()\n",
    "        #Use the cursor() method of a MySQLConnection object to create a cursor object to perform various SQL operations.\n",
    "        # The execute() methods run the SQL query and return the result.\n",
    "        cursor.execute(\"USE STUDENT_INFORMATION;\")\n",
    "\n",
    "        # Extract results: \n",
    "        record = cursor.fetchone()     \n",
    "        print(\"Connected to database\", record)"
   ]
  },
  {
   "cell_type": "code",
   "execution_count": 29,
   "metadata": {},
   "outputs": [
    {
     "name": "stdout",
     "output_type": "stream",
     "text": [
      "Drop database\n"
     ]
    }
   ],
   "source": [
    "# Drop database\n",
    "try: \n",
    "    cursorObject.execute(\"DROP DATABASE IF EXISTS STUDENT_INFORMATION\")\n",
    "    print(\"Drop database\")\n",
    "except: \n",
    "    database.rollback()    # Roll back database\n"
   ]
  },
  {
   "cell_type": "code",
   "execution_count": 30,
   "metadata": {},
   "outputs": [],
   "source": [
    "# Create databse\n",
    "cursorObject.execute(\"CREATE DATABASE STUDENT_INFORMATION\")"
   ]
  },
  {
   "cell_type": "code",
   "execution_count": 32,
   "metadata": {},
   "outputs": [
    {
     "name": "stdout",
     "output_type": "stream",
     "text": [
      "Student Record created successfully \n"
     ]
    }
   ],
   "source": [
    "# Creating table: \n",
    "\n",
    "cursor.execute(\"USE STUDENT_INFORMATION;\")\n",
    "studentRecord = \"\"\"CREATE TABLE INTERNATIONAL_STUDENT( \n",
    "    NAME VARCHAR(20) NOT NULL,\n",
    "STUDENT_ID INT PRIMARY KEY, \n",
    "ADDRESS VARCHAR(50),\n",
    "GENDER VARCHAR(50),\n",
    "AGE INT, \n",
    "CLASS_ID VARCHAR(50))\"\"\"\n",
    "\n",
    "# Notify: \n",
    "\n",
    "cursor = database.cursor()\n",
    "Result = cursor.execute(studentRecord)\n",
    "print(\"Student Record created successfully \")"
   ]
  },
  {
   "cell_type": "code",
   "execution_count": 33,
   "metadata": {},
   "outputs": [
    {
     "name": "stdout",
     "output_type": "stream",
     "text": [
      "Insert completed\n"
     ]
    }
   ],
   "source": [
    "# Insert data into table: \n",
    "cursorObject. execute(\"INSERT INTO INTERNATIONAL_STUDENT VALUES ('Phuong', 22070782,'Hanoi','Female', 18,'INS306203')\")\n",
    "cursorObject. execute(\"INSERT INTO INTERNATIONAL_STUDENT VALUES ('An', 22070632,'Thai_Binh','Male', 19, 'INS208004')\")\n",
    "cursorObject.execute(\"INSERT INTO INTERNATIONAL_STUDENT VALUES ('PA', 22070645,'Hoa_Binh','Female', 19, 'INS304902')\")\n",
    "cursorObject.execute(\"INSERT INTO INTERNATIONAL_STUDENT VALUES ('Ninh_Hai', 22070682,'Hai_Duong','Female', 19, 'INS325401')\")\n",
    "cursorObject.execute(\"INSERT INTO INTERNATIONAL_STUDENT VALUES ('Duc_Nam', 21060742,'Tuyen_Quang','Male', 20, 'INS201505')\")\n",
    "cursorObject. execute(\"INSERT INTO INTERNATIONAL_STUDENT VALUES ('Hoa_Ngoc', 22070613,'Hung_Yen','Female', 19,'INE105005')\")\n",
    "cursorObject. execute(\"INSERT INTO INTERNATIONAL_STUDENT VALUES ('Thanh_Phuong', 21060809,'Nam_Dinh','Male', 20,'MAT109207')\")\n",
    "cursorObject. execute(\"INSERT INTO INTERNATIONAL_STUDENT VALUES ('Trung', 21080792,'Ha_Noi','Male', 22, 'INS200401')\")\n",
    "\n",
    "print(\"Insert completed\")\n",
    "database.commit()"
   ]
  },
  {
   "cell_type": "code",
   "execution_count": 14,
   "metadata": {},
   "outputs": [
    {
     "name": "stdout",
     "output_type": "stream",
     "text": [
      "('Duc_Nam', 21060742, 'Tuyen_Quang', 'Male', 20, 'INS201505')\n",
      "('Thanh_Phuong', 21060809, 'Nam_Dinh', 'Male', 20, 'MAT109207')\n",
      "('Trung', 21080792, 'Ha_Noi', 'Male', 22, 'INS200401')\n",
      "('Hoa_Ngoc', 22070613, 'Hung_Yen', 'Female', 19, 'INE105005')\n",
      "('An', 22070632, 'Thai_Binh', 'Male', 19, 'INS208004')\n",
      "('PA', 22070645, 'Hoa_Binh', 'Female', 19, 'INS304902')\n",
      "('Ninh_Hai', 22070682, 'Hai_Duong', 'Female', 19, 'INS325401')\n",
      "('Phuong', 22070782, 'Hanoi', 'Female', 18, 'INS306203')\n"
     ]
    }
   ],
   "source": [
    "# Print data from table: \n",
    "cursorObject.execute(\"\"\"SELECT * FROM INTERNATIONAL_STUDENT\"\"\")\n",
    "student_data= cursorObject.fetchall()\n",
    "for i in student_data: \n",
    "    print(i)"
   ]
  },
  {
   "cell_type": "code",
   "execution_count": 15,
   "metadata": {},
   "outputs": [
    {
     "name": "stdout",
     "output_type": "stream",
     "text": [
      "Updated sucessfully\n"
     ]
    }
   ],
   "source": [
    "# Update data: \n",
    "student_update = \"UPDATE INTERNATIONAL_STUDENT SET AGE = 21 WHERE NAME = 'Duc_Nam'\"\n",
    "cursorObject.execute(student_update)\n",
    "database.commit()\n",
    "print(\"Updated sucessfully\")"
   ]
  },
  {
   "cell_type": "code",
   "execution_count": 35,
   "metadata": {},
   "outputs": [
    {
     "name": "stdout",
     "output_type": "stream",
     "text": [
      "('Duc_Nam', 21060742, 'Tuyen_Quang', 'Male', 20, 'INS201505')\n",
      "('Thanh_Phuong', 21060809, 'Nam_Dinh', 'Male', 20, 'MAT109207')\n",
      "('Trung', 21080792, 'Ha_Noi', 'Male', 22, 'INS200401')\n",
      "('Hoa_Ngoc', 22070613, 'Hung_Yen', 'Female', 19, 'INE105005')\n",
      "('An', 22070632, 'Thai_Binh', 'Male', 19, 'INS208004')\n",
      "('PA', 22070645, 'Hoa_Binh', 'Female', 19, 'INS304902')\n",
      "('Ninh_Hai', 22070682, 'Hai_Duong', 'Female', 19, 'INS325401')\n",
      "('Phuong', 22070782, 'Hanoi', 'Female', 18, 'INS306203')\n"
     ]
    }
   ],
   "source": [
    "# Print the table: \n",
    "cursorObject.execute(\"\"\"SELECT * FROM INTERNATIONAL_STUDENT\"\"\")\n",
    "student_data= cursorObject.fetchall()\n",
    "for i in student_data: \n",
    "    print(i)"
   ]
  },
  {
   "cell_type": "code",
   "execution_count": 36,
   "metadata": {},
   "outputs": [],
   "source": [
    "# DELETE DATA FROM TABLE: \n",
    "query = \"DELETE FROM INTERNATIONAL_STUDENT WHERE NAME = 'Phuong'\"\n",
    "cursorObject.execute(query)\n",
    "database.commit()\n",
    "cursorObject. execute(\"INSERT INTO INTERNATIONAL_STUDENT VALUES ('Phuong', 22070782,'Hanoi','Female', 18, 'INS306203')\")\n"
   ]
  },
  {
   "cell_type": "code",
   "execution_count": 40,
   "metadata": {},
   "outputs": [
    {
     "name": "stdout",
     "output_type": "stream",
     "text": [
      "Table CLASSES created successfully \n"
     ]
    }
   ],
   "source": [
    "cursor.execute(\"USE STUDENT_INFORMATION;\")\n",
    "courses = \"\"\"CREATE TABLE CLASSES( \n",
    "    COURSE_TITLE VARCHAR(225) NOT NULL,\n",
    "    CLASS_ID VARCHAR(50), \n",
    "    SCHEDULE varchar(225),\n",
    "    ROOM int,\n",
    "    LOCATION varchar(225))\n",
    "    \n",
    "\"\"\"\n",
    "\n",
    "# Notify: \n",
    "\n",
    "cursor = database.cursor()\n",
    "Result = cursor.execute(courses)\n",
    "print(\"Table CLASSES created successfully \")"
   ]
  },
  {
   "cell_type": "code",
   "execution_count": 38,
   "metadata": {},
   "outputs": [],
   "source": [
    "cursorObject.execute(\"Drop table classes\")"
   ]
  },
  {
   "cell_type": "code",
   "execution_count": 41,
   "metadata": {},
   "outputs": [],
   "source": [
    "# Insert data into table: \n",
    "cursorObject. execute(\"INSERT INTO CLASSES VALUES ('Information_security','INS306203','Wednesday',601,'Xuan_Thuy')\")\n",
    "cursorObject. execute(\"INSERT INTO CLASSES VALUES ('Economic_Statistics','INS200401','Monday',402,'TVB')\")\n",
    "cursorObject. execute(\"INSERT INTO CLASSES VALUES ('Advanced_Mathematics','MAT109207','Tuesday',601,'Hacinco')\")\n",
    "cursorObject. execute(\"INSERT INTO CLASSES VALUES ('Microeconomics','INE105005','Wednesday',601,'Xuan_Thuy')\")\n",
    "cursorObject. execute(\"INSERT INTO CLASSES VALUES ('Fundamentals_of_Finance','INS201505','Tuesday',407,'TVB')\")\n",
    "cursorObject. execute(\"INSERT INTO CLASSES VALUES ('Introduction_to_Data Science','INS325401','Thursday',604,'TVB')\")\n",
    "cursorObject. execute(\"INSERT INTO CLASSES VALUES ('Econometrics','INS304902','Thursday',506,'Hacinco')\")\n",
    "cursorObject. execute(\"INSERT INTO CLASSES VALUES ('Databases','INS208004','Wednesday',401,'TVB')\")"
   ]
  },
  {
   "cell_type": "code",
   "execution_count": 49,
   "metadata": {},
   "outputs": [
    {
     "ename": "InternalError",
     "evalue": "Unread result found",
     "output_type": "error",
     "traceback": [
      "\u001b[1;31m---------------------------------------------------------------------------\u001b[0m",
      "\u001b[1;31mInternalError\u001b[0m                             Traceback (most recent call last)",
      "\u001b[1;32md:\\MySQL\\test_first.ipynb Cell 18\u001b[0m line \u001b[0;36m2\n\u001b[0;32m      <a href='vscode-notebook-cell:/d%3A/MySQL/test_first.ipynb#X22sZmlsZQ%3D%3D?line=0'>1</a>\u001b[0m \u001b[39m# Print the table: \u001b[39;00m\n\u001b[1;32m----> <a href='vscode-notebook-cell:/d%3A/MySQL/test_first.ipynb#X22sZmlsZQ%3D%3D?line=1'>2</a>\u001b[0m cursorObject\u001b[39m.\u001b[39;49mexecute(\u001b[39m\"\"\"\u001b[39;49m\u001b[39mSELECT * FROM CLASSES\u001b[39;49m\u001b[39m\"\"\"\u001b[39;49m)\n\u001b[0;32m      <a href='vscode-notebook-cell:/d%3A/MySQL/test_first.ipynb#X22sZmlsZQ%3D%3D?line=2'>3</a>\u001b[0m class_data\u001b[39m=\u001b[39m cursorObject\u001b[39m.\u001b[39mfetchall()\n\u001b[0;32m      <a href='vscode-notebook-cell:/d%3A/MySQL/test_first.ipynb#X22sZmlsZQ%3D%3D?line=3'>4</a>\u001b[0m \u001b[39mfor\u001b[39;00m i \u001b[39min\u001b[39;00m class_data: \n",
      "File \u001b[1;32mc:\\Users\\ADMIN\\AppData\\Local\\Programs\\Python\\Python311\\Lib\\site-packages\\mysql\\connector\\cursor_cext.py:303\u001b[0m, in \u001b[0;36mCMySQLCursor.execute\u001b[1;34m(self, operation, params, multi)\u001b[0m\n\u001b[0;32m    301\u001b[0m \u001b[39mexcept\u001b[39;00m (ProgrammingError, \u001b[39mReferenceError\u001b[39;00m) \u001b[39mas\u001b[39;00m err:\n\u001b[0;32m    302\u001b[0m     \u001b[39mraise\u001b[39;00m ProgrammingError(\u001b[39m\"\u001b[39m\u001b[39mCursor is not connected\u001b[39m\u001b[39m\"\u001b[39m, \u001b[39m2055\u001b[39m) \u001b[39mfrom\u001b[39;00m \u001b[39merr\u001b[39;00m\n\u001b[1;32m--> 303\u001b[0m \u001b[39mself\u001b[39;49m\u001b[39m.\u001b[39;49m_cnx\u001b[39m.\u001b[39;49mhandle_unread_result()\n\u001b[0;32m    305\u001b[0m stmt \u001b[39m=\u001b[39m \u001b[39m\"\u001b[39m\u001b[39m\"\u001b[39m\n\u001b[0;32m    306\u001b[0m \u001b[39mself\u001b[39m\u001b[39m.\u001b[39mreset()\n",
      "File \u001b[1;32mc:\\Users\\ADMIN\\AppData\\Local\\Programs\\Python\\Python311\\Lib\\site-packages\\mysql\\connector\\connection_cext.py:955\u001b[0m, in \u001b[0;36mCMySQLConnection.handle_unread_result\u001b[1;34m(self, prepared)\u001b[0m\n\u001b[0;32m    953\u001b[0m     \u001b[39mself\u001b[39m\u001b[39m.\u001b[39mconsume_results()\n\u001b[0;32m    954\u001b[0m \u001b[39melif\u001b[39;00m unread_result:\n\u001b[1;32m--> 955\u001b[0m     \u001b[39mraise\u001b[39;00m InternalError(\u001b[39m\"\u001b[39m\u001b[39mUnread result found\u001b[39m\u001b[39m\"\u001b[39m)\n",
      "\u001b[1;31mInternalError\u001b[0m: Unread result found"
     ]
    }
   ],
   "source": [
    "# Print the table: \n",
    "cursorObject.execute(\"\"\"SELECT * FROM CLASSES\"\"\")\n",
    "class_data= cursorObject.fetchall()\n",
    "for i in class_data: \n",
    "    print(i)"
   ]
  },
  {
   "cell_type": "code",
   "execution_count": 48,
   "metadata": {},
   "outputs": [
    {
     "ename": "InternalError",
     "evalue": "Unread result found",
     "output_type": "error",
     "traceback": [
      "\u001b[1;31m---------------------------------------------------------------------------\u001b[0m",
      "\u001b[1;31mInternalError\u001b[0m                             Traceback (most recent call last)",
      "\u001b[1;32md:\\MySQL\\test_first.ipynb Cell 19\u001b[0m line \u001b[0;36m1\n\u001b[1;32m----> <a href='vscode-notebook-cell:/d%3A/MySQL/test_first.ipynb#X24sZmlsZQ%3D%3D?line=0'>1</a>\u001b[0m cursorObject\u001b[39m.\u001b[39;49mexecute(\u001b[39m\"\"\"\u001b[39;49m\u001b[39mSELECT INTERNATIONAL_STUDENT.NAME,CLASSES.COURSE_TITLE\u001b[39;49m\n\u001b[0;32m      <a href='vscode-notebook-cell:/d%3A/MySQL/test_first.ipynb#X24sZmlsZQ%3D%3D?line=1'>2</a>\u001b[0m \u001b[39m                     FROM INTERNATIONAL_STUDENT\u001b[39;49m\n\u001b[0;32m      <a href='vscode-notebook-cell:/d%3A/MySQL/test_first.ipynb#X24sZmlsZQ%3D%3D?line=2'>3</a>\u001b[0m \u001b[39m                     CROSS JOIN CLASSES\u001b[39;49m\n\u001b[0;32m      <a href='vscode-notebook-cell:/d%3A/MySQL/test_first.ipynb#X24sZmlsZQ%3D%3D?line=3'>4</a>\u001b[0m \u001b[39m                     WHERE INTERNATIONAL_STUDENT.CLASS_ID= CLASSES.CLASS_ID\u001b[39;49m\u001b[39m\"\"\"\u001b[39;49m)\n",
      "File \u001b[1;32mc:\\Users\\ADMIN\\AppData\\Local\\Programs\\Python\\Python311\\Lib\\site-packages\\mysql\\connector\\cursor_cext.py:303\u001b[0m, in \u001b[0;36mCMySQLCursor.execute\u001b[1;34m(self, operation, params, multi)\u001b[0m\n\u001b[0;32m    301\u001b[0m \u001b[39mexcept\u001b[39;00m (ProgrammingError, \u001b[39mReferenceError\u001b[39;00m) \u001b[39mas\u001b[39;00m err:\n\u001b[0;32m    302\u001b[0m     \u001b[39mraise\u001b[39;00m ProgrammingError(\u001b[39m\"\u001b[39m\u001b[39mCursor is not connected\u001b[39m\u001b[39m\"\u001b[39m, \u001b[39m2055\u001b[39m) \u001b[39mfrom\u001b[39;00m \u001b[39merr\u001b[39;00m\n\u001b[1;32m--> 303\u001b[0m \u001b[39mself\u001b[39;49m\u001b[39m.\u001b[39;49m_cnx\u001b[39m.\u001b[39;49mhandle_unread_result()\n\u001b[0;32m    305\u001b[0m stmt \u001b[39m=\u001b[39m \u001b[39m\"\u001b[39m\u001b[39m\"\u001b[39m\n\u001b[0;32m    306\u001b[0m \u001b[39mself\u001b[39m\u001b[39m.\u001b[39mreset()\n",
      "File \u001b[1;32mc:\\Users\\ADMIN\\AppData\\Local\\Programs\\Python\\Python311\\Lib\\site-packages\\mysql\\connector\\connection_cext.py:955\u001b[0m, in \u001b[0;36mCMySQLConnection.handle_unread_result\u001b[1;34m(self, prepared)\u001b[0m\n\u001b[0;32m    953\u001b[0m     \u001b[39mself\u001b[39m\u001b[39m.\u001b[39mconsume_results()\n\u001b[0;32m    954\u001b[0m \u001b[39melif\u001b[39;00m unread_result:\n\u001b[1;32m--> 955\u001b[0m     \u001b[39mraise\u001b[39;00m InternalError(\u001b[39m\"\u001b[39m\u001b[39mUnread result found\u001b[39m\u001b[39m\"\u001b[39m)\n",
      "\u001b[1;31mInternalError\u001b[0m: Unread result found"
     ]
    }
   ],
   "source": [
    "cursorObject.execute(\"\"\"SELECT INTERNATIONAL_STUDENT.NAME,CLASSES.COURSE_TITLE\n",
    "                     FROM INTERNATIONAL_STUDENT\n",
    "                     CROSS JOIN CLASSES\n",
    "                     WHERE INTERNATIONAL_STUDENT.CLASS_ID= CLASSES.CLASS_ID\"\"\")\n",
    "\n",
    "\n"
   ]
  }
 ],
 "metadata": {
  "kernelspec": {
   "display_name": "Python 3",
   "language": "python",
   "name": "python3"
  },
  "language_info": {
   "codemirror_mode": {
    "name": "ipython",
    "version": 3
   },
   "file_extension": ".py",
   "mimetype": "text/x-python",
   "name": "python",
   "nbconvert_exporter": "python",
   "pygments_lexer": "ipython3",
   "version": "3.11.1"
  }
 },
 "nbformat": 4,
 "nbformat_minor": 2
}
