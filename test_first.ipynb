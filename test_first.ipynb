{
 "cells": [
  {
   "cell_type": "markdown",
   "metadata": {},
   "source": [
    "# Install MySQL connector module\n",
    "pip install mysql-connector-python\n",
    "\n",
    "# a package that provides access to MySQL Driver for different programming languages. "
   ]
  },
  {
   "cell_type": "code",
   "execution_count": 3,
   "metadata": {},
   "outputs": [],
   "source": [
    "# importing required libraries\n",
    "import mysql.connector"
   ]
  },
  {
   "cell_type": "code",
   "execution_count": 4,
   "metadata": {},
   "outputs": [
    {
     "name": "stdout",
     "output_type": "stream",
     "text": [
      "<mysql.connector.connection_cext.CMySQLConnection object at 0x0000029F23AC1D50>\n",
      "Connect to mySQL server sucessfully\n"
     ]
    }
   ],
   "source": [
    "database = mysql.connector.connect(\n",
    "  host =\"localhost\",\n",
    "  user =\"root\",\n",
    "  passwd =\"24122004\"\n",
    ")\n",
    " \n",
    "print(database)\n",
    "print(\"Connect to mySQL server sucessfully\")"
   ]
  },
  {
   "cell_type": "code",
   "execution_count": 5,
   "metadata": {},
   "outputs": [],
   "source": [
    "# preparing a cursor object\n",
    "cursorObject = database.cursor()\n",
    "\n",
    " #Use the cursor() method of a MySQLConnection object to create a cursor object to perform various SQL operations."
   ]
  },
  {
   "cell_type": "code",
   "execution_count": 7,
   "metadata": {},
   "outputs": [],
   "source": [
    "# Create databse\n",
    "cursorObject.execute(\"CREATE DATABASE STUDENT_INFORMATION\")"
   ]
  },
  {
   "cell_type": "code",
   "execution_count": 8,
   "metadata": {},
   "outputs": [
    {
     "name": "stdout",
     "output_type": "stream",
     "text": [
      "Connected to MySQL Server version  8.1.0\n",
      "Connected to database None\n"
     ]
    }
   ],
   "source": [
    "# Connect to database: \n",
    "\n",
    "if database .is_connected():\n",
    "        db_Info = database.get_server_info()\n",
    "        print(\"Connected to MySQL Server version \", db_Info)\n",
    "\n",
    "        #Use the cursor() method of a MySQLConnection object to create a cursor object to perform various SQL operations.\n",
    "        # The execute() methods run the SQL query and return the result.\n",
    "        cursorObject.execute(\"USE STUDENT_INFORMATION;\")\n",
    "\n",
    "        # Extract results: \n",
    "        record = cursorObject.fetchone()     \n",
    "        print(\"Connected to database\", record)"
   ]
  },
  {
   "cell_type": "code",
   "execution_count": 25,
   "metadata": {},
   "outputs": [],
   "source": [
    "# Drop database\n",
    "try: \n",
    "    cursorObject.execute(\"DROP DATABASE IF EXISTS STUDENT_INFORMATION\")\n",
    "    print(\"Drop database\")\n",
    "except: \n",
    "    database.rollback()    # Roll back database\n"
   ]
  },
  {
   "cell_type": "code",
   "execution_count": 9,
   "metadata": {},
   "outputs": [
    {
     "name": "stdout",
     "output_type": "stream",
     "text": [
      "Table CLASSES created successfully \n"
     ]
    }
   ],
   "source": [
    "# Create table Classes: \n",
    "cursorObject.execute(\"USE STUDENT_INFORMATION;\")\n",
    "courses = \"\"\"CREATE TABLE CLASSES( \n",
    "    COURSE_TITLE VARCHAR(225) NOT NULL,\n",
    "    COURSE_ID VARCHAR(50) NOT NULL,\n",
    "    PRIMARY KEY(COURSE_ID),\n",
    "    SCHEDULE varchar(225),\n",
    "    ROOM int,\n",
    "    LOCATION varchar(225))\"\"\"\n",
    "\n",
    "# Notify: \n",
    "\n",
    "\n",
    "Result = cursorObject.execute(courses)\n",
    "print(\"Table CLASSES created successfully \")"
   ]
  },
  {
   "cell_type": "code",
   "execution_count": 10,
   "metadata": {},
   "outputs": [
    {
     "name": "stdout",
     "output_type": "stream",
     "text": [
      "Student Record created successfully \n"
     ]
    }
   ],
   "source": [
    "# Create table international student: \n",
    "\n",
    "# add foreign key class ID references course ID in table classes\n",
    "\n",
    "cursorObject.execute(\"USE STUDENT_INFORMATION;\")\n",
    "studentRecord = \"\"\"CREATE TABLE INTERNATIONAL_STUDENT( \n",
    "    NAME VARCHAR(20) NOT NULL,\n",
    "    STUDENT_ID INT NOT NULL AUTO_INCREMENT, \n",
    "    PRIMARY KEY(STUDENT_ID),\n",
    "    ADDRESS VARCHAR(50),\n",
    "    GENDER VARCHAR(50),\n",
    "    AGE INT, \n",
    "    CLASS_ID VARCHAR(50),\n",
    "    INDEX (CLASS_ID),\n",
    "    FOREIGN KEY (CLASS_ID) REFERENCES CLASSES(COURSE_ID))\"\"\"\n",
    "\n",
    "# Notify: \n",
    "\n",
    "cursor = database.cursor()\n",
    "Result = cursor.execute(studentRecord)\n",
    "print(\"Student Record created successfully \")"
   ]
  },
  {
   "cell_type": "code",
   "execution_count": 140,
   "metadata": {},
   "outputs": [],
   "source": [
    "cursorObject.execute(\"drop table international_student;\")"
   ]
  },
  {
   "cell_type": "code",
   "execution_count": 93,
   "metadata": {},
   "outputs": [],
   "source": [
    "cursorObject.execute(\"drop table classes;\")"
   ]
  },
  {
   "cell_type": "code",
   "execution_count": 11,
   "metadata": {},
   "outputs": [],
   "source": [
    "# Insert data into table Classes: \n",
    "cursorObject. execute(\"INSERT INTO CLASSES (COURSE_TITLE, COURSE_ID, SCHEDULE, ROOM, LOCATION) VALUES ('Information_security','INS306203','Wednesday',601,'Xuan_Thuy')\")\n",
    "cursorObject. execute(\"INSERT INTO CLASSES (COURSE_TITLE, COURSE_ID, SCHEDULE, ROOM, LOCATION) VALUES ('Economic_Statistics','INS200401','Monday',402,'TVB')\")\n",
    "cursorObject. execute(\"INSERT INTO CLASSES (COURSE_TITLE, COURSE_ID, SCHEDULE, ROOM, LOCATION) VALUES ('Advanced_Mathematics','MAT109207','Tuesday',601,'Hacinco')\")\n",
    "cursorObject. execute(\"INSERT INTO CLASSES (COURSE_TITLE, COURSE_ID, SCHEDULE, ROOM, LOCATION) VALUES ('Microeconomics','INE105005','Wednesday',601,'Xuan_Thuy')\")\n",
    "cursorObject. execute(\"INSERT INTO CLASSES (COURSE_TITLE, COURSE_ID, SCHEDULE, ROOM, LOCATION) VALUES ('Fundamentals_of_Finance','INS201505','Tuesday',407,'TVB')\")\n",
    "cursorObject. execute(\"INSERT INTO CLASSES (COURSE_TITLE, COURSE_ID, SCHEDULE, ROOM, LOCATION) VALUES ('Introduction_to_Data Science','INS325401','Thursday',604,'TVB')\")\n",
    "cursorObject. execute(\"INSERT INTO CLASSES (COURSE_TITLE, COURSE_ID, SCHEDULE, ROOM, LOCATION) VALUES ('Econometrics','INS304902','Thursday',506,'Hacinco')\")\n",
    "cursorObject. execute(\"INSERT INTO CLASSES (COURSE_TITLE, COURSE_ID, SCHEDULE, ROOM, LOCATION) VALUES ('Databases','INS208004','Wednesday',401,'TVB')\")"
   ]
  },
  {
   "cell_type": "code",
   "execution_count": 11,
   "metadata": {},
   "outputs": [],
   "source": [
    "cursorObject.execute(\"Insert into Classes(COURSE_TITLE, COURSE_ID,SCHEDULE, ROOM, LOCATION ) VALUES ('Tin_hoc', 'INS304','Wednesday', 407, 'TVB' )\")"
   ]
  },
  {
   "cell_type": "code",
   "execution_count": 12,
   "metadata": {},
   "outputs": [
    {
     "name": "stdout",
     "output_type": "stream",
     "text": [
      "Insert completed\n"
     ]
    }
   ],
   "source": [
    "# Insert data into table International_student: \n",
    "cursorObject. execute(\"INSERT INTO INTERNATIONAL_STUDENT (NAME, ADDRESS, GENDER, AGE, CLASS_ID) VALUES ('Phuong','Hanoi','Female', 18, 'INS306203')\")\n",
    "cursorObject. execute(\"INSERT INTO INTERNATIONAL_STUDENT(NAME, ADDRESS, GENDER, AGE, CLASS_ID) VALUES ('An','Thai_Binh','Male', 19, 'INS200401')\")\n",
    "cursorObject.execute(\"INSERT INTO INTERNATIONAL_STUDENT (NAME, ADDRESS, GENDER, AGE, CLASS_ID) VALUES ('PA','Hoa_Binh','Female', 19, 'MAT109207')\")\n",
    "cursorObject.execute(\"INSERT INTO INTERNATIONAL_STUDENT (NAME, ADDRESS, GENDER, AGE, CLASS_ID) VALUES ('Ninh_Hai','Hai_Duong','Female', 19,'INE105005')\")\n",
    "cursorObject.execute(\"INSERT INTO INTERNATIONAL_STUDENT (NAME, ADDRESS, GENDER, AGE, CLASS_ID) VALUES ('Duc_Nam','Tuyen_Quang','Male', 20,'INS201505')\")\n",
    "cursorObject. execute(\"INSERT INTO INTERNATIONAL_STUDENT (NAME, ADDRESS, GENDER, AGE, CLASS_ID) VALUES ('Hoa_Ngoc','Hung_Yen','Female', 19, 'INS325401')\")\n",
    "cursorObject. execute(\"INSERT INTO INTERNATIONAL_STUDENT (NAME, ADDRESS, GENDER, AGE, CLASS_ID) VALUES ('Thanh_Phuong','Nam_Dinh','Male', 20,'INS304902')\")\n",
    "cursorObject. execute(\"INSERT INTO INTERNATIONAL_STUDENT (NAME, ADDRESS, GENDER, AGE, CLASS_ID) VALUES ('Trung','Ha_Noi','Male', 22,'INS208004')\")\n",
    "\n",
    "print(\"Insert completed\")"
   ]
  },
  {
   "cell_type": "code",
   "execution_count": 13,
   "metadata": {},
   "outputs": [
    {
     "name": "stdout",
     "output_type": "stream",
     "text": [
      "('Phuong', 1, 'Hanoi', 'Female', 18, 'INS306203')\n",
      "('An', 2, 'Thai_Binh', 'Male', 19, 'INS200401')\n",
      "('PA', 3, 'Hoa_Binh', 'Female', 19, 'MAT109207')\n",
      "('Ninh_Hai', 4, 'Hai_Duong', 'Female', 19, 'INE105005')\n",
      "('Duc_Nam', 5, 'Tuyen_Quang', 'Male', 20, 'INS201505')\n",
      "('Hoa_Ngoc', 6, 'Hung_Yen', 'Female', 19, 'INS325401')\n",
      "('Thanh_Phuong', 7, 'Nam_Dinh', 'Male', 20, 'INS304902')\n",
      "('Trung', 8, 'Ha_Noi', 'Male', 22, 'INS208004')\n"
     ]
    }
   ],
   "source": [
    "# Print data from table International student: \n",
    "cursorObject.execute(\"\"\"SELECT * FROM INTERNATIONAL_STUDENT\"\"\")\n",
    "student_data= cursorObject.fetchall()\n",
    "for i in student_data: \n",
    "    print(i)"
   ]
  },
  {
   "cell_type": "code",
   "execution_count": 14,
   "metadata": {},
   "outputs": [
    {
     "name": "stdout",
     "output_type": "stream",
     "text": [
      "('Microeconomics', 'INE105005', 'Wednesday', 601, 'Xuan_Thuy')\n",
      "('Economic_Statistics', 'INS200401', 'Monday', 402, 'TVB')\n",
      "('Fundamentals_of_Finance', 'INS201505', 'Tuesday', 407, 'TVB')\n",
      "('Databases', 'INS208004', 'Wednesday', 401, 'TVB')\n",
      "('Econometrics', 'INS304902', 'Thursday', 506, 'Hacinco')\n",
      "('Information_security', 'INS306203', 'Wednesday', 601, 'Xuan_Thuy')\n",
      "('Introduction_to_Data Science', 'INS325401', 'Thursday', 604, 'TVB')\n",
      "('Advanced_Mathematics', 'MAT109207', 'Tuesday', 601, 'Hacinco')\n"
     ]
    }
   ],
   "source": [
    "# Print the table Classes: \n",
    "cursorObject.execute(\"\"\"SELECT * FROM CLASSES\"\"\")\n",
    "student_data= cursorObject.fetchall()\n",
    "for i in student_data: \n",
    "    print(i)"
   ]
  },
  {
   "cell_type": "code",
   "execution_count": 15,
   "metadata": {},
   "outputs": [
    {
     "name": "stdout",
     "output_type": "stream",
     "text": [
      "Updated sucessfully\n"
     ]
    }
   ],
   "source": [
    "# Update data: \n",
    "student_update = \"UPDATE INTERNATIONAL_STUDENT SET AGE = 21 WHERE NAME = 'Duc_Nam'\"\n",
    "cursorObject.execute(student_update)\n",
    "database.commit()\n",
    "print(\"Updated sucessfully\")"
   ]
  },
  {
   "cell_type": "code",
   "execution_count": 16,
   "metadata": {},
   "outputs": [
    {
     "name": "stdout",
     "output_type": "stream",
     "text": [
      "Record deleted\n"
     ]
    }
   ],
   "source": [
    "# DELETE DATA FROM TABLE: \n",
    "\n",
    "query = \"DELETE FROM INTERNATIONAL_STUDENT WHERE STUDENT_ID = 3\"\n",
    "cursorObject.execute(query)\n",
    "database.commit()\n",
    "print(\"Record deleted\")\n",
    "\n",
    "\n"
   ]
  },
  {
   "cell_type": "code",
   "execution_count": 17,
   "metadata": {},
   "outputs": [
    {
     "name": "stdout",
     "output_type": "stream",
     "text": [
      "('Phuong', 1, 'Hanoi', 'Female', 18, 'INS306203')\n",
      "('An', 2, 'Thai_Binh', 'Male', 19, 'INS200401')\n",
      "('Ninh_Hai', 4, 'Hai_Duong', 'Female', 19, 'INE105005')\n",
      "('Duc_Nam', 5, 'Tuyen_Quang', 'Male', 21, 'INS201505')\n",
      "('Hoa_Ngoc', 6, 'Hung_Yen', 'Female', 19, 'INS325401')\n",
      "('Thanh_Phuong', 7, 'Nam_Dinh', 'Male', 20, 'INS304902')\n",
      "('Trung', 8, 'Ha_Noi', 'Male', 22, 'INS208004')\n"
     ]
    }
   ],
   "source": [
    "# Print data again from table International student: \n",
    "cursorObject = database.cursor()\n",
    "cursorObject.execute(\"\"\"SELECT * FROM INTERNATIONAL_STUDENT\"\"\")\n",
    "student_data= cursorObject.fetchall()\n",
    "for i in student_data: \n",
    "    print(i)"
   ]
  },
  {
   "cell_type": "code",
   "execution_count": 18,
   "metadata": {},
   "outputs": [
    {
     "name": "stdout",
     "output_type": "stream",
     "text": [
      "('Duc_Nam', 5, 'Tuyen_Quang', 'Male', 21, 'INS201505')\n",
      "('Thanh_Phuong', 7, 'Nam_Dinh', 'Male', 20, 'INS304902')\n",
      "('Trung', 8, 'Ha_Noi', 'Male', 22, 'INS208004')\n"
     ]
    }
   ],
   "source": [
    "# Print data again from table International student where student having age>20: \n",
    "cursorObject = database.cursor()\n",
    "cursorObject.execute(\"\"\"SELECT * FROM INTERNATIONAL_STUDENT where age > 19\"\"\")\n",
    "student_data= cursorObject.fetchall()\n",
    "for i in student_data: \n",
    "    print(i)"
   ]
  },
  {
   "cell_type": "code",
   "execution_count": 19,
   "metadata": {},
   "outputs": [
    {
     "name": "stdout",
     "output_type": "stream",
     "text": [
      "('Phuong', 1, 'Hanoi', 'Female', 18, 'INS306203')\n",
      "('An', 2, 'Thai_Binh', 'Male', 19, 'INS200401')\n",
      "('Ninh_Hai', 4, 'Hai_Duong', 'Female', 19, 'INE105005')\n",
      "('Hoa_Ngoc', 6, 'Hung_Yen', 'Female', 19, 'INS325401')\n",
      "('Thanh_Phuong', 7, 'Nam_Dinh', 'Male', 20, 'INS304902')\n"
     ]
    }
   ],
   "source": [
    "# Print data again from table International student where student having age between 18 and 20: \n",
    "cursorObject = database.cursor()\n",
    "cursorObject.execute(\"\"\"SELECT * FROM INTERNATIONAL_STUDENT where age between 18 and 20\"\"\")\n",
    "student_data= cursorObject.fetchall()\n",
    "for i in student_data: \n",
    "    print(i)"
   ]
  },
  {
   "cell_type": "code",
   "execution_count": 21,
   "metadata": {},
   "outputs": [
    {
     "name": "stdout",
     "output_type": "stream",
     "text": [
      "('An', 2, 'Thai_Binh', 'Male', 19, 'INS200401', 'Economic_Statistics', 'INS200401', 'Monday', 402, 'TVB')\n",
      "('Duc_Nam', 5, 'Tuyen_Quang', 'Male', 21, 'INS201505', 'Fundamentals_of_Finance', 'INS201505', 'Tuesday', 407, 'TVB')\n",
      "('Hoa_Ngoc', 6, 'Hung_Yen', 'Female', 19, 'INS325401', 'Introduction_to_Data Science', 'INS325401', 'Thursday', 604, 'TVB')\n",
      "('Ninh_Hai', 4, 'Hai_Duong', 'Female', 19, 'INE105005', 'Microeconomics', 'INE105005', 'Wednesday', 601, 'Xuan_Thuy')\n",
      "('Phuong', 1, 'Hanoi', 'Female', 18, 'INS306203', 'Information_security', 'INS306203', 'Wednesday', 601, 'Xuan_Thuy')\n",
      "('Thanh_Phuong', 7, 'Nam_Dinh', 'Male', 20, 'INS304902', 'Econometrics', 'INS304902', 'Thursday', 506, 'Hacinco')\n",
      "('Trung', 8, 'Ha_Noi', 'Male', 22, 'INS208004', 'Databases', 'INS208004', 'Wednesday', 401, 'TVB')\n"
     ]
    }
   ],
   "source": [
    "# JOIN 2 TABLES TOGETHER: \n",
    "\n",
    "# Check the database connection: \n",
    "database = mysql.connector.connect(\n",
    "    host =\"localhost\",\n",
    "    user =\"root\",\n",
    "    passwd =\"24122004\",\n",
    "    database=\"STUDENT_INFORMATION\"\n",
    ")\n",
    "\n",
    "\n",
    "cursorObject = database.cursor()\n",
    "\n",
    "with cursorObject:\n",
    "    cursorObject.execute(\"\"\"SELECT * FROM INTERNATIONAL_STUDENT \n",
    "                         INNER JOIN CLASSES ON INTERNATIONAL_STUDENT.CLASS_ID = CLASSES.COURSE_ID\n",
    "                         ORDER BY NAME\"\"\")\n",
    "    \n",
    "    # Fetch and print the results of the query\n",
    "    result = cursorObject.fetchall()\n",
    "    for row in result:\n",
    "        print(row)\n",
    "\n",
    "# Close the cursor and database connection manually\n",
    "cursorObject.close()\n",
    "database.close()\n"
   ]
  }
 ],
 "metadata": {
  "kernelspec": {
   "display_name": "Python 3",
   "language": "python",
   "name": "python3"
  },
  "language_info": {
   "codemirror_mode": {
    "name": "ipython",
    "version": 3
   },
   "file_extension": ".py",
   "mimetype": "text/x-python",
   "name": "python",
   "nbconvert_exporter": "python",
   "pygments_lexer": "ipython3",
   "version": "3.11.1"
  }
 },
 "nbformat": 4,
 "nbformat_minor": 2
}
