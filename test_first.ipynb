{
 "cells": [
  {
   "cell_type": "markdown",
   "metadata": {},
   "source": [
    "# Install MySQL connector module\n",
    "pip install mysql-connector-python"
   ]
  },
  {
   "cell_type": "code",
   "execution_count": 57,
   "metadata": {},
   "outputs": [],
   "source": [
    "# importing required libraries\n",
    "import mysql.connector"
   ]
  },
  {
   "cell_type": "code",
   "execution_count": 58,
   "metadata": {},
   "outputs": [
    {
     "name": "stdout",
     "output_type": "stream",
     "text": [
      "<mysql.connector.connection_cext.CMySQLConnection object at 0x00000248B8D9ECD0>\n"
     ]
    }
   ],
   "source": [
    "database = mysql.connector.connect(\n",
    "  host =\"localhost\",\n",
    "  user =\"root\",\n",
    "  passwd =\"24122004\"\n",
    ")\n",
    " \n",
    "print(database)"
   ]
  },
  {
   "cell_type": "code",
   "execution_count": 59,
   "metadata": {},
   "outputs": [],
   "source": [
    "# preparing a cursor object\n",
    "cursorObject = database.cursor()"
   ]
  },
  {
   "cell_type": "code",
   "execution_count": 60,
   "metadata": {},
   "outputs": [
    {
     "name": "stdout",
     "output_type": "stream",
     "text": [
      "Connected to MySQL Server version  8.1.0\n",
      "Connected to database None\n"
     ]
    }
   ],
   "source": [
    "# Connect to database: \n",
    "\n",
    "if database .is_connected():\n",
    "        db_Info = database.get_server_info()\n",
    "        print(\"Connected to MySQL Server version \", db_Info)\n",
    "        cursor = database.cursor()\n",
    "        #Use the cursor() method of a MySQLConnection object to create a cursor object to perform various SQL operations.\n",
    "        # The execute() methods run the SQL query and return the result.\n",
    "        cursor.execute(\"USE STUDENT_INFORMATION;\")\n",
    "\n",
    "        # Extract results: \n",
    "        record = cursor.fetchone()     \n",
    "        print(\"Connected to database\", record)"
   ]
  },
  {
   "cell_type": "code",
   "execution_count": 82,
   "metadata": {},
   "outputs": [
    {
     "name": "stdout",
     "output_type": "stream",
     "text": [
      "Drop database\n"
     ]
    }
   ],
   "source": [
    "# Drop database\n",
    "try: \n",
    "    cursorObject.execute(\"DROP DATABASE IF EXISTS STUDENT_INFORMATION\")\n",
    "    print(\"Drop database\")\n",
    "except: \n",
    "    database.rollback()    # Roll back database\n"
   ]
  },
  {
   "cell_type": "code",
   "execution_count": 83,
   "metadata": {},
   "outputs": [],
   "source": [
    "# Create databse\n",
    "cursorObject.execute(\"CREATE DATABASE STUDENT_INFORMATION\")"
   ]
  },
  {
   "cell_type": "code",
   "execution_count": 85,
   "metadata": {},
   "outputs": [
    {
     "name": "stdout",
     "output_type": "stream",
     "text": [
      "Student Record created successfully \n"
     ]
    }
   ],
   "source": [
    "# Creating table: \n",
    "\n",
    "cursor.execute(\"USE STUDENT_INFORMATION;\")\n",
    "studentRecord = \"\"\"CREATE TABLE INTERNATIONAL_STUDENT( \n",
    "    NAME VARCHAR(20) NOT NULL,\n",
    "STUDENT_ID INT PRIMARY KEY, \n",
    "ADDRESS VARCHAR(50),\n",
    "GENDER VARCHAR(50),\n",
    "AGE INT , \n",
    "COURSE_ID VARCHAR(50))\"\"\"\n",
    "\n",
    "# Notify: \n",
    "\n",
    "cursor = database.cursor()\n",
    "Result = cursor.execute(studentRecord)\n",
    "print(\"Student Record created successfully \")"
   ]
  },
  {
   "cell_type": "code",
   "execution_count": 86,
   "metadata": {},
   "outputs": [
    {
     "name": "stdout",
     "output_type": "stream",
     "text": [
      "Insert completed\n"
     ]
    }
   ],
   "source": [
    "# Insert data into table: \n",
    "cursorObject. execute(\"INSERT INTO INTERNATIONAL_STUDENT VALUES ('Phuong', 22070782,'Hanoi','Female', 18, 'INS306203')\")\n",
    "cursorObject. execute(\"INSERT INTO INTERNATIONAL_STUDENT VALUES ('An', 22070632,'Thai_Binh','Male', 19, 'INS208004')\")\n",
    "cursorObject.execute(\"INSERT INTO INTERNATIONAL_STUDENT VALUES ('PA', 22070645,'Hoa_Binh','Female', 19, 'INS304902')\")\n",
    "cursorObject.execute(\"INSERT INTO INTERNATIONAL_STUDENT VALUES ('Ninh_Hai', 2207082,'Hai_Duong','Female', 19, 'INS325401')\")\n",
    "cursorObject.execute(\"INSERT INTO INTERNATIONAL_STUDENT VALUES ('Duc_Nam', 21060742,'Tuyen_Quang','Male', 20, 'INS201505')\")\n",
    "print(\"Insert completed\")\n",
    "database.commit()"
   ]
  },
  {
   "cell_type": "code",
   "execution_count": 87,
   "metadata": {},
   "outputs": [
    {
     "name": "stdout",
     "output_type": "stream",
     "text": [
      "('Ninh_Hai', 2207082, 'Hai_Duong', 'Female', 19, 'INS325401')\n",
      "('Duc_Nam', 21060742, 'Tuyen_Quang', 'Male', 20, 'INS201505')\n",
      "('An', 22070632, 'Thai_Binh', 'Male', 19, 'INS208004')\n",
      "('PA', 22070645, 'Hoa_Binh', 'Female', 19, 'INS304902')\n",
      "('Phuong', 22070782, 'Hanoi', 'Female', 18, 'INS306203')\n"
     ]
    }
   ],
   "source": [
    "# Print data from table: \n",
    "cursorObject.execute(\"\"\"SELECT * FROM INTERNATIONAL_STUDENT\"\"\")\n",
    "student_data= cursorObject.fetchall()\n",
    "for i in student_data: \n",
    "    print(i)"
   ]
  },
  {
   "cell_type": "code",
   "execution_count": 88,
   "metadata": {},
   "outputs": [
    {
     "name": "stdout",
     "output_type": "stream",
     "text": [
      "Updated sucessfully\n"
     ]
    }
   ],
   "source": [
    "# Update data: \n",
    "student_update = \"UPDATE INTERNATIONAL_STUDENT SET AGE = 21 WHERE NAME = 'Duc_Nam'\"\n",
    "cursorObject.execute(student_update)\n",
    "database.commit()\n",
    "print(\"Updated sucessfully\")"
   ]
  },
  {
   "cell_type": "code",
   "execution_count": 89,
   "metadata": {},
   "outputs": [
    {
     "name": "stdout",
     "output_type": "stream",
     "text": [
      "('Ninh_Hai', 2207082, 'Hai_Duong', 'Female', 19, 'INS325401')\n",
      "('Duc_Nam', 21060742, 'Tuyen_Quang', 'Male', 21, 'INS201505')\n",
      "('An', 22070632, 'Thai_Binh', 'Male', 19, 'INS208004')\n",
      "('PA', 22070645, 'Hoa_Binh', 'Female', 19, 'INS304902')\n",
      "('Phuong', 22070782, 'Hanoi', 'Female', 18, 'INS306203')\n"
     ]
    }
   ],
   "source": [
    "# Print the table: \n",
    "cursorObject.execute(\"\"\"SELECT * FROM INTERNATIONAL_STUDENT\"\"\")\n",
    "student_data= cursorObject.fetchall()\n",
    "for i in student_data: \n",
    "    print(i)"
   ]
  },
  {
   "cell_type": "code",
   "execution_count": 90,
   "metadata": {},
   "outputs": [],
   "source": [
    "# DELETE DATA FROM TABLE: \n",
    "query = \"DELETE FROM INTERNATIONAL_STUDENT WHERE NAME = 'Phuong'\"\n",
    "cursorObject.execute(query)\n",
    "database.commit()\n",
    "cursorObject. execute(\"INSERT INTO INTERNATIONAL_STUDENT VALUES ('Phuong', 22070782,'Hanoi','Female', 18, 'INS306203')\")\n"
   ]
  },
  {
   "cell_type": "code",
   "execution_count": 70,
   "metadata": {},
   "outputs": [
    {
     "name": "stdout",
     "output_type": "stream",
     "text": [
      "Table Courses created successfully \n"
     ]
    }
   ],
   "source": [
    "cursor.execute(\"USE STUDENT_INFORMATION;\")\n",
    "courses = \"\"\"CREATE TABLE COURSES( \n",
    "    COURSE_TITLE VARCHAR(20) NOT NULL,\n",
    "    COURSE_ID INT NOT NULL, \n",
    "    PRICE FLOAT)\n",
    "    \n",
    "\"\"\"\n",
    "\n",
    "# Notify: \n",
    "\n",
    "cursor = database.cursor()\n",
    "Result = cursor.execute(courses)\n",
    "print(\"Table Courses created successfully \")"
   ]
  },
  {
   "cell_type": "code",
   "execution_count": 71,
   "metadata": {},
   "outputs": [
    {
     "name": "stdout",
     "output_type": "stream",
     "text": [
      "Table Class created successfully \n"
     ]
    }
   ],
   "source": [
    "cursor.execute(\"USE STUDENT_INFORMATION;\")\n",
    "international_class = \"\"\"CREATE TABLE CLASS( \n",
    "    COURSE_TITLE VARCHAR(20) NOT NULL,\n",
    "    CLASS_ID INT NOT NULL, \n",
    "    NUM_LECTURES INT NOT NULL,\n",
    "    LEVEL VARCHAR(50))\n",
    "    \n",
    "\"\"\"\n",
    "\n",
    "# Notify: \n",
    "\n",
    "cursor = database.cursor()\n",
    "Result = cursor.execute(international_class)\n",
    "print(\"Table Class created successfully \")"
   ]
  }
 ],
 "metadata": {
  "kernelspec": {
   "display_name": "Python 3",
   "language": "python",
   "name": "python3"
  },
  "language_info": {
   "codemirror_mode": {
    "name": "ipython",
    "version": 3
   },
   "file_extension": ".py",
   "mimetype": "text/x-python",
   "name": "python",
   "nbconvert_exporter": "python",
   "pygments_lexer": "ipython3",
   "version": "3.11.1"
  }
 },
 "nbformat": 4,
 "nbformat_minor": 2
}
