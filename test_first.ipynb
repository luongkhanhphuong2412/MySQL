{
 "cells": [
  {
   "cell_type": "markdown",
   "metadata": {},
   "source": [
    "# Install MySQL connector module\n",
    "pip install mysql-connector-python"
   ]
  },
  {
   "cell_type": "code",
   "execution_count": 1,
   "metadata": {},
   "outputs": [],
   "source": [
    "# importing required libraries\n",
    "import mysql.connector"
   ]
  },
  {
   "cell_type": "code",
   "execution_count": 2,
   "metadata": {},
   "outputs": [
    {
     "name": "stdout",
     "output_type": "stream",
     "text": [
      "<mysql.connector.connection_cext.CMySQLConnection object at 0x0000015700431590>\n"
     ]
    }
   ],
   "source": [
    "database = mysql.connector.connect(\n",
    "  host =\"localhost\",\n",
    "  user =\"root\",\n",
    "  passwd =\"24122004\"\n",
    ")\n",
    " \n",
    "print(database)"
   ]
  },
  {
   "cell_type": "code",
   "execution_count": 3,
   "metadata": {},
   "outputs": [],
   "source": [
    "# preparing a cursor object\n",
    "cursorObject = database.cursor()"
   ]
  },
  {
   "cell_type": "code",
   "execution_count": 5,
   "metadata": {},
   "outputs": [],
   "source": [
    "# Create databse\n",
    "cursorObject.execute(\"CREATE DATABASE STUDENT_INFORMATION\")"
   ]
  },
  {
   "cell_type": "code",
   "execution_count": 6,
   "metadata": {},
   "outputs": [
    {
     "name": "stdout",
     "output_type": "stream",
     "text": [
      "Connected to MySQL Server version  8.1.0\n",
      "Connected to database None\n"
     ]
    }
   ],
   "source": [
    "# Connect to database: \n",
    "\n",
    "if database .is_connected():\n",
    "        db_Info = database.get_server_info()\n",
    "        print(\"Connected to MySQL Server version \", db_Info)\n",
    "        cursor = database.cursor()\n",
    "        #Use the cursor() method of a MySQLConnection object to create a cursor object to perform various SQL operations.\n",
    "        # The execute() methods run the SQL query and return the result.\n",
    "        cursor.execute(\"USE STUDENT_INFORMATION;\")\n",
    "\n",
    "        # Extract results: \n",
    "        record = cursor.fetchone()     \n",
    "        print(\"Connected to database\", record)"
   ]
  },
  {
   "cell_type": "code",
   "execution_count": 13,
   "metadata": {},
   "outputs": [
    {
     "name": "stdout",
     "output_type": "stream",
     "text": [
      "Drop database\n"
     ]
    }
   ],
   "source": [
    "# Drop database\n",
    "try: \n",
    "    cursorObject.execute(\"DROP DATABASE IF EXISTS STUDENT_INFORMATION\")\n",
    "    print(\"Drop database\")\n",
    "except: \n",
    "    database.rollback()    # Roll back database\n"
   ]
  },
  {
   "cell_type": "code",
   "execution_count": 14,
   "metadata": {},
   "outputs": [],
   "source": [
    "# Create databse\n",
    "cursorObject.execute(\"CREATE DATABASE STUDENT_INFORMATION\")"
   ]
  },
  {
   "cell_type": "code",
   "execution_count": 15,
   "metadata": {},
   "outputs": [
    {
     "name": "stdout",
     "output_type": "stream",
     "text": [
      "Student Record created successfully \n"
     ]
    }
   ],
   "source": [
    "# Creating table: \n",
    "\n",
    "cursor.execute(\"USE STUDENT_INFORMATION;\")\n",
    "studentRecord = \"\"\"CREATE TABLE INTERNATIONAL_STUDENT( \n",
    "    NAME VARCHAR(20) NOT NULL,\n",
    "STUDENT_ID INT PRIMARY KEY, \n",
    "ADDRESS VARCHAR(50),\n",
    "GENDER VARCHAR(50),\n",
    "AGE INT, \n",
    "COURSE_ID VARCHAR(50))\"\"\"\n",
    "\n",
    "# Notify: \n",
    "\n",
    "cursor = database.cursor()\n",
    "Result = cursor.execute(studentRecord)\n",
    "print(\"Student Record created successfully \")"
   ]
  },
  {
   "cell_type": "code",
   "execution_count": 16,
   "metadata": {},
   "outputs": [
    {
     "name": "stdout",
     "output_type": "stream",
     "text": [
      "Insert completed\n"
     ]
    }
   ],
   "source": [
    "# Insert data into table: \n",
    "cursorObject. execute(\"INSERT INTO INTERNATIONAL_STUDENT VALUES ('Phuong', 22070782,'Hanoi','Female', 18,'INS306203')\")\n",
    "cursorObject. execute(\"INSERT INTO INTERNATIONAL_STUDENT VALUES ('An', 22070632,'Thai_Binh','Male', 19, 'INS208004')\")\n",
    "cursorObject.execute(\"INSERT INTO INTERNATIONAL_STUDENT VALUES ('PA', 22070645,'Hoa_Binh','Female', 19, 'INS304902')\")\n",
    "cursorObject.execute(\"INSERT INTO INTERNATIONAL_STUDENT VALUES ('Ninh_Hai', 22070682,'Hai_Duong','Female', 19, 'INS325401')\")\n",
    "cursorObject.execute(\"INSERT INTO INTERNATIONAL_STUDENT VALUES ('Duc_Nam', 21060742,'Tuyen_Quang','Male', 20, 'INS201505')\")\n",
    "cursorObject. execute(\"INSERT INTO INTERNATIONAL_STUDENT VALUES ('Hoa_Ngoc', 22070613,'Hung_Yen','Female', 19,'INE105005')\")\n",
    "cursorObject. execute(\"INSERT INTO INTERNATIONAL_STUDENT VALUES ('Thanh_Phuong', 21060809,'Nam_Dinh','Male', 20,'MAT109207')\")\n",
    "cursorObject. execute(\"INSERT INTO INTERNATIONAL_STUDENT VALUES ('Trung', 21080792,'Ha_Noi','Male', 22, 'INS200401')\")\n",
    "\n",
    "print(\"Insert completed\")\n",
    "database.commit()"
   ]
  },
  {
   "cell_type": "code",
   "execution_count": 17,
   "metadata": {},
   "outputs": [
    {
     "name": "stdout",
     "output_type": "stream",
     "text": [
      "('Duc_Nam', 21060742, 'Tuyen_Quang', 'Male', 20, 'INS201505')\n",
      "('Thanh_Phuong', 21060809, 'Nam_Dinh', 'Male', 20, 'MAT109207')\n",
      "('Trung', 21080792, 'Ha_Noi', 'Male', 22, 'INS200401')\n",
      "('Hoa_Ngoc', 22070613, 'Hung_Yen', 'Female', 19, 'INE105005')\n",
      "('An', 22070632, 'Thai_Binh', 'Male', 19, 'INS208004')\n",
      "('PA', 22070645, 'Hoa_Binh', 'Female', 19, 'INS304902')\n",
      "('Ninh_Hai', 22070682, 'Hai_Duong', 'Female', 19, 'INS325401')\n",
      "('Phuong', 22070782, 'Hanoi', 'Female', 18, 'INS306203')\n"
     ]
    }
   ],
   "source": [
    "# Print data from table: \n",
    "cursorObject.execute(\"\"\"SELECT * FROM INTERNATIONAL_STUDENT\"\"\")\n",
    "student_data= cursorObject.fetchall()\n",
    "for i in student_data: \n",
    "    print(i)"
   ]
  },
  {
   "cell_type": "code",
   "execution_count": 18,
   "metadata": {},
   "outputs": [
    {
     "name": "stdout",
     "output_type": "stream",
     "text": [
      "Updated sucessfully\n"
     ]
    }
   ],
   "source": [
    "# Update data: \n",
    "student_update = \"UPDATE INTERNATIONAL_STUDENT SET AGE = 21 WHERE NAME = 'Duc_Nam'\"\n",
    "cursorObject.execute(student_update)\n",
    "database.commit()\n",
    "print(\"Updated sucessfully\")"
   ]
  },
  {
   "cell_type": "code",
   "execution_count": 19,
   "metadata": {},
   "outputs": [
    {
     "name": "stdout",
     "output_type": "stream",
     "text": [
      "('Duc_Nam', 21060742, 'Tuyen_Quang', 'Male', 21, 'INS201505')\n",
      "('Thanh_Phuong', 21060809, 'Nam_Dinh', 'Male', 20, 'MAT109207')\n",
      "('Trung', 21080792, 'Ha_Noi', 'Male', 22, 'INS200401')\n",
      "('Hoa_Ngoc', 22070613, 'Hung_Yen', 'Female', 19, 'INE105005')\n",
      "('An', 22070632, 'Thai_Binh', 'Male', 19, 'INS208004')\n",
      "('PA', 22070645, 'Hoa_Binh', 'Female', 19, 'INS304902')\n",
      "('Ninh_Hai', 22070682, 'Hai_Duong', 'Female', 19, 'INS325401')\n",
      "('Phuong', 22070782, 'Hanoi', 'Female', 18, 'INS306203')\n"
     ]
    }
   ],
   "source": [
    "# Print the table: \n",
    "cursorObject.execute(\"\"\"SELECT * FROM INTERNATIONAL_STUDENT\"\"\")\n",
    "student_data= cursorObject.fetchall()\n",
    "for i in student_data: \n",
    "    print(i)"
   ]
  },
  {
   "cell_type": "code",
   "execution_count": 20,
   "metadata": {},
   "outputs": [],
   "source": [
    "# DELETE DATA FROM TABLE: \n",
    "query = \"DELETE FROM INTERNATIONAL_STUDENT WHERE NAME = 'Phuong'\"\n",
    "cursorObject.execute(query)\n",
    "database.commit()\n",
    "cursorObject. execute(\"INSERT INTO INTERNATIONAL_STUDENT VALUES ('Phuong', 22070782,'Hanoi','Female', 18, 'INS306203')\")\n"
   ]
  },
  {
   "cell_type": "code",
   "execution_count": 24,
   "metadata": {},
   "outputs": [
    {
     "ename": "ProgrammingError",
     "evalue": "1050 (42S01): Table 'classes' already exists",
     "output_type": "error",
     "traceback": [
      "\u001b[1;31m---------------------------------------------------------------------------\u001b[0m",
      "\u001b[1;31mMySQLInterfaceError\u001b[0m                       Traceback (most recent call last)",
      "File \u001b[1;32mc:\\Users\\ADMIN\\AppData\\Local\\Programs\\Python\\Python311\\Lib\\site-packages\\mysql\\connector\\connection_cext.py:633\u001b[0m, in \u001b[0;36mCMySQLConnection.cmd_query\u001b[1;34m(self, query, raw, buffered, raw_as_string)\u001b[0m\n\u001b[0;32m    632\u001b[0m         query \u001b[39m=\u001b[39m query\u001b[39m.\u001b[39mencode(\u001b[39m\"\u001b[39m\u001b[39mutf-8\u001b[39m\u001b[39m\"\u001b[39m)\n\u001b[1;32m--> 633\u001b[0m     \u001b[39mself\u001b[39;49m\u001b[39m.\u001b[39;49m_cmysql\u001b[39m.\u001b[39;49mquery(\n\u001b[0;32m    634\u001b[0m         query,\n\u001b[0;32m    635\u001b[0m         raw\u001b[39m=\u001b[39;49mraw,\n\u001b[0;32m    636\u001b[0m         buffered\u001b[39m=\u001b[39;49mbuffered,\n\u001b[0;32m    637\u001b[0m         raw_as_string\u001b[39m=\u001b[39;49mraw_as_string,\n\u001b[0;32m    638\u001b[0m         query_attrs\u001b[39m=\u001b[39;49m\u001b[39mself\u001b[39;49m\u001b[39m.\u001b[39;49mquery_attrs,\n\u001b[0;32m    639\u001b[0m     )\n\u001b[0;32m    640\u001b[0m \u001b[39mexcept\u001b[39;00m MySQLInterfaceError \u001b[39mas\u001b[39;00m err:\n",
      "\u001b[1;31mMySQLInterfaceError\u001b[0m: Table 'classes' already exists",
      "\nThe above exception was the direct cause of the following exception:\n",
      "\u001b[1;31mProgrammingError\u001b[0m                          Traceback (most recent call last)",
      "\u001b[1;32md:\\MySQL\\test_first.ipynb Cell 15\u001b[0m line \u001b[0;36m1\n\u001b[0;32m     <a href='vscode-notebook-cell:/d%3A/MySQL/test_first.ipynb#X16sZmlsZQ%3D%3D?line=10'>11</a>\u001b[0m \u001b[39m# Notify: \u001b[39;00m\n\u001b[0;32m     <a href='vscode-notebook-cell:/d%3A/MySQL/test_first.ipynb#X16sZmlsZQ%3D%3D?line=12'>13</a>\u001b[0m cursor \u001b[39m=\u001b[39m database\u001b[39m.\u001b[39mcursor()\n\u001b[1;32m---> <a href='vscode-notebook-cell:/d%3A/MySQL/test_first.ipynb#X16sZmlsZQ%3D%3D?line=13'>14</a>\u001b[0m Result \u001b[39m=\u001b[39m cursor\u001b[39m.\u001b[39;49mexecute(courses)\n\u001b[0;32m     <a href='vscode-notebook-cell:/d%3A/MySQL/test_first.ipynb#X16sZmlsZQ%3D%3D?line=14'>15</a>\u001b[0m \u001b[39mprint\u001b[39m(\u001b[39m\"\u001b[39m\u001b[39mTable CLASSES created successfully \u001b[39m\u001b[39m\"\u001b[39m)\n",
      "File \u001b[1;32mc:\\Users\\ADMIN\\AppData\\Local\\Programs\\Python\\Python311\\Lib\\site-packages\\mysql\\connector\\cursor_cext.py:330\u001b[0m, in \u001b[0;36mCMySQLCursor.execute\u001b[1;34m(self, operation, params, multi)\u001b[0m\n\u001b[0;32m    325\u001b[0m             \u001b[39mraise\u001b[39;00m ProgrammingError(\n\u001b[0;32m    326\u001b[0m                 \u001b[39m\"\u001b[39m\u001b[39mNot all parameters were used in the SQL statement\u001b[39m\u001b[39m\"\u001b[39m\n\u001b[0;32m    327\u001b[0m             )\n\u001b[0;32m    329\u001b[0m \u001b[39mtry\u001b[39;00m:\n\u001b[1;32m--> 330\u001b[0m     result \u001b[39m=\u001b[39m \u001b[39mself\u001b[39;49m\u001b[39m.\u001b[39;49m_cnx\u001b[39m.\u001b[39;49mcmd_query(\n\u001b[0;32m    331\u001b[0m         stmt,\n\u001b[0;32m    332\u001b[0m         raw\u001b[39m=\u001b[39;49m\u001b[39mself\u001b[39;49m\u001b[39m.\u001b[39;49m_raw,\n\u001b[0;32m    333\u001b[0m         buffered\u001b[39m=\u001b[39;49m\u001b[39mself\u001b[39;49m\u001b[39m.\u001b[39;49m_buffered,\n\u001b[0;32m    334\u001b[0m         raw_as_string\u001b[39m=\u001b[39;49m\u001b[39mself\u001b[39;49m\u001b[39m.\u001b[39;49m_raw_as_string,\n\u001b[0;32m    335\u001b[0m     )\n\u001b[0;32m    336\u001b[0m \u001b[39mexcept\u001b[39;00m MySQLInterfaceError \u001b[39mas\u001b[39;00m err:\n\u001b[0;32m    337\u001b[0m     \u001b[39mraise\u001b[39;00m get_mysql_exception(\n\u001b[0;32m    338\u001b[0m         msg\u001b[39m=\u001b[39merr\u001b[39m.\u001b[39mmsg, errno\u001b[39m=\u001b[39merr\u001b[39m.\u001b[39merrno, sqlstate\u001b[39m=\u001b[39merr\u001b[39m.\u001b[39msqlstate\n\u001b[0;32m    339\u001b[0m     ) \u001b[39mfrom\u001b[39;00m \u001b[39merr\u001b[39;00m\n",
      "File \u001b[1;32mc:\\Users\\ADMIN\\AppData\\Local\\Programs\\Python\\Python311\\Lib\\site-packages\\mysql\\connector\\opentelemetry\\context_propagation.py:77\u001b[0m, in \u001b[0;36mwith_context_propagation.<locals>.wrapper\u001b[1;34m(cnx, *args, **kwargs)\u001b[0m\n\u001b[0;32m     75\u001b[0m \u001b[39m\u001b[39m\u001b[39m\"\"\"Context propagation decorator.\"\"\"\u001b[39;00m\n\u001b[0;32m     76\u001b[0m \u001b[39mif\u001b[39;00m \u001b[39mnot\u001b[39;00m OTEL_ENABLED \u001b[39mor\u001b[39;00m \u001b[39mnot\u001b[39;00m cnx\u001b[39m.\u001b[39motel_context_propagation:\n\u001b[1;32m---> 77\u001b[0m     \u001b[39mreturn\u001b[39;00m method(cnx, \u001b[39m*\u001b[39;49margs, \u001b[39m*\u001b[39;49m\u001b[39m*\u001b[39;49mkwargs)\n\u001b[0;32m     79\u001b[0m current_span \u001b[39m=\u001b[39m trace\u001b[39m.\u001b[39mget_current_span()\n\u001b[0;32m     80\u001b[0m tp_header \u001b[39m=\u001b[39m \u001b[39mNone\u001b[39;00m\n",
      "File \u001b[1;32mc:\\Users\\ADMIN\\AppData\\Local\\Programs\\Python\\Python311\\Lib\\site-packages\\mysql\\connector\\connection_cext.py:641\u001b[0m, in \u001b[0;36mCMySQLConnection.cmd_query\u001b[1;34m(self, query, raw, buffered, raw_as_string)\u001b[0m\n\u001b[0;32m    633\u001b[0m     \u001b[39mself\u001b[39m\u001b[39m.\u001b[39m_cmysql\u001b[39m.\u001b[39mquery(\n\u001b[0;32m    634\u001b[0m         query,\n\u001b[0;32m    635\u001b[0m         raw\u001b[39m=\u001b[39mraw,\n\u001b[1;32m   (...)\u001b[0m\n\u001b[0;32m    638\u001b[0m         query_attrs\u001b[39m=\u001b[39m\u001b[39mself\u001b[39m\u001b[39m.\u001b[39mquery_attrs,\n\u001b[0;32m    639\u001b[0m     )\n\u001b[0;32m    640\u001b[0m \u001b[39mexcept\u001b[39;00m MySQLInterfaceError \u001b[39mas\u001b[39;00m err:\n\u001b[1;32m--> 641\u001b[0m     \u001b[39mraise\u001b[39;00m get_mysql_exception(\n\u001b[0;32m    642\u001b[0m         err\u001b[39m.\u001b[39merrno, msg\u001b[39m=\u001b[39merr\u001b[39m.\u001b[39mmsg, sqlstate\u001b[39m=\u001b[39merr\u001b[39m.\u001b[39msqlstate\n\u001b[0;32m    643\u001b[0m     ) \u001b[39mfrom\u001b[39;00m \u001b[39merr\u001b[39;00m\n\u001b[0;32m    644\u001b[0m \u001b[39mexcept\u001b[39;00m \u001b[39mAttributeError\u001b[39;00m \u001b[39mas\u001b[39;00m err:\n\u001b[0;32m    645\u001b[0m     addr \u001b[39m=\u001b[39m (\n\u001b[0;32m    646\u001b[0m         \u001b[39mself\u001b[39m\u001b[39m.\u001b[39m_unix_socket \u001b[39mif\u001b[39;00m \u001b[39mself\u001b[39m\u001b[39m.\u001b[39m_unix_socket \u001b[39melse\u001b[39;00m \u001b[39mf\u001b[39m\u001b[39m\"\u001b[39m\u001b[39m{\u001b[39;00m\u001b[39mself\u001b[39m\u001b[39m.\u001b[39m_host\u001b[39m}\u001b[39;00m\u001b[39m:\u001b[39m\u001b[39m{\u001b[39;00m\u001b[39mself\u001b[39m\u001b[39m.\u001b[39m_port\u001b[39m}\u001b[39;00m\u001b[39m\"\u001b[39m\n\u001b[0;32m    647\u001b[0m     )\n",
      "\u001b[1;31mProgrammingError\u001b[0m: 1050 (42S01): Table 'classes' already exists"
     ]
    }
   ],
   "source": [
    "cursor.execute(\"USE STUDENT_INFORMATION;\")\n",
    "courses = \"\"\"CREATE TABLE CLASSES( \n",
    "    COURSE_TITLE VARCHAR(45) NOT NULL,\n",
    "    COURSE_ID INT primary key, \n",
    "    SCHEDULE varchar(45),\n",
    "    ROOM int,\n",
    "    LOCATION varchar(45))\n",
    "    \n",
    "\"\"\"\n",
    "\n",
    "# Notify: \n",
    "\n",
    "cursor = database.cursor()\n",
    "Result = cursor.execute(courses)\n",
    "print(\"Table CLASSES created successfully \")"
   ]
  },
  {
   "cell_type": "code",
   "execution_count": 23,
   "metadata": {},
   "outputs": [
    {
     "ename": "DataError",
     "evalue": "1136 (21S01): Column count doesn't match value count at row 1",
     "output_type": "error",
     "traceback": [
      "\u001b[1;31m---------------------------------------------------------------------------\u001b[0m",
      "\u001b[1;31mMySQLInterfaceError\u001b[0m                       Traceback (most recent call last)",
      "File \u001b[1;32mc:\\Users\\ADMIN\\AppData\\Local\\Programs\\Python\\Python311\\Lib\\site-packages\\mysql\\connector\\connection_cext.py:633\u001b[0m, in \u001b[0;36mCMySQLConnection.cmd_query\u001b[1;34m(self, query, raw, buffered, raw_as_string)\u001b[0m\n\u001b[0;32m    632\u001b[0m         query \u001b[39m=\u001b[39m query\u001b[39m.\u001b[39mencode(\u001b[39m\"\u001b[39m\u001b[39mutf-8\u001b[39m\u001b[39m\"\u001b[39m)\n\u001b[1;32m--> 633\u001b[0m     \u001b[39mself\u001b[39;49m\u001b[39m.\u001b[39;49m_cmysql\u001b[39m.\u001b[39;49mquery(\n\u001b[0;32m    634\u001b[0m         query,\n\u001b[0;32m    635\u001b[0m         raw\u001b[39m=\u001b[39;49mraw,\n\u001b[0;32m    636\u001b[0m         buffered\u001b[39m=\u001b[39;49mbuffered,\n\u001b[0;32m    637\u001b[0m         raw_as_string\u001b[39m=\u001b[39;49mraw_as_string,\n\u001b[0;32m    638\u001b[0m         query_attrs\u001b[39m=\u001b[39;49m\u001b[39mself\u001b[39;49m\u001b[39m.\u001b[39;49mquery_attrs,\n\u001b[0;32m    639\u001b[0m     )\n\u001b[0;32m    640\u001b[0m \u001b[39mexcept\u001b[39;00m MySQLInterfaceError \u001b[39mas\u001b[39;00m err:\n",
      "\u001b[1;31mMySQLInterfaceError\u001b[0m: Column count doesn't match value count at row 1",
      "\nThe above exception was the direct cause of the following exception:\n",
      "\u001b[1;31mDataError\u001b[0m                                 Traceback (most recent call last)",
      "\u001b[1;32md:\\MySQL\\test_first.ipynb Cell 16\u001b[0m line \u001b[0;36m2\n\u001b[0;32m      <a href='vscode-notebook-cell:/d%3A/MySQL/test_first.ipynb#X21sZmlsZQ%3D%3D?line=0'>1</a>\u001b[0m \u001b[39m# Insert data into table: \u001b[39;00m\n\u001b[1;32m----> <a href='vscode-notebook-cell:/d%3A/MySQL/test_first.ipynb#X21sZmlsZQ%3D%3D?line=1'>2</a>\u001b[0m cursorObject\u001b[39m.\u001b[39;49m execute(\u001b[39m\"\u001b[39;49m\u001b[39mINSERT INTO INTERNATIONAL_STUDENT VALUES (\u001b[39;49m\u001b[39m'\u001b[39;49m\u001b[39mInformation_security\u001b[39;49m\u001b[39m'\u001b[39;49m\u001b[39m,\u001b[39;49m\u001b[39m'\u001b[39;49m\u001b[39mINS306203\u001b[39;49m\u001b[39m'\u001b[39;49m\u001b[39m,\u001b[39;49m\u001b[39m'\u001b[39;49m\u001b[39mWednesday\u001b[39;49m\u001b[39m'\u001b[39;49m\u001b[39m,601, \u001b[39;49m\u001b[39m'\u001b[39;49m\u001b[39mXuan_Thuy\u001b[39;49m\u001b[39m'\u001b[39;49m\u001b[39m)\u001b[39;49m\u001b[39m\"\u001b[39;49m)\n",
      "File \u001b[1;32mc:\\Users\\ADMIN\\AppData\\Local\\Programs\\Python\\Python311\\Lib\\site-packages\\mysql\\connector\\cursor_cext.py:330\u001b[0m, in \u001b[0;36mCMySQLCursor.execute\u001b[1;34m(self, operation, params, multi)\u001b[0m\n\u001b[0;32m    325\u001b[0m             \u001b[39mraise\u001b[39;00m ProgrammingError(\n\u001b[0;32m    326\u001b[0m                 \u001b[39m\"\u001b[39m\u001b[39mNot all parameters were used in the SQL statement\u001b[39m\u001b[39m\"\u001b[39m\n\u001b[0;32m    327\u001b[0m             )\n\u001b[0;32m    329\u001b[0m \u001b[39mtry\u001b[39;00m:\n\u001b[1;32m--> 330\u001b[0m     result \u001b[39m=\u001b[39m \u001b[39mself\u001b[39;49m\u001b[39m.\u001b[39;49m_cnx\u001b[39m.\u001b[39;49mcmd_query(\n\u001b[0;32m    331\u001b[0m         stmt,\n\u001b[0;32m    332\u001b[0m         raw\u001b[39m=\u001b[39;49m\u001b[39mself\u001b[39;49m\u001b[39m.\u001b[39;49m_raw,\n\u001b[0;32m    333\u001b[0m         buffered\u001b[39m=\u001b[39;49m\u001b[39mself\u001b[39;49m\u001b[39m.\u001b[39;49m_buffered,\n\u001b[0;32m    334\u001b[0m         raw_as_string\u001b[39m=\u001b[39;49m\u001b[39mself\u001b[39;49m\u001b[39m.\u001b[39;49m_raw_as_string,\n\u001b[0;32m    335\u001b[0m     )\n\u001b[0;32m    336\u001b[0m \u001b[39mexcept\u001b[39;00m MySQLInterfaceError \u001b[39mas\u001b[39;00m err:\n\u001b[0;32m    337\u001b[0m     \u001b[39mraise\u001b[39;00m get_mysql_exception(\n\u001b[0;32m    338\u001b[0m         msg\u001b[39m=\u001b[39merr\u001b[39m.\u001b[39mmsg, errno\u001b[39m=\u001b[39merr\u001b[39m.\u001b[39merrno, sqlstate\u001b[39m=\u001b[39merr\u001b[39m.\u001b[39msqlstate\n\u001b[0;32m    339\u001b[0m     ) \u001b[39mfrom\u001b[39;00m \u001b[39merr\u001b[39;00m\n",
      "File \u001b[1;32mc:\\Users\\ADMIN\\AppData\\Local\\Programs\\Python\\Python311\\Lib\\site-packages\\mysql\\connector\\opentelemetry\\context_propagation.py:77\u001b[0m, in \u001b[0;36mwith_context_propagation.<locals>.wrapper\u001b[1;34m(cnx, *args, **kwargs)\u001b[0m\n\u001b[0;32m     75\u001b[0m \u001b[39m\u001b[39m\u001b[39m\"\"\"Context propagation decorator.\"\"\"\u001b[39;00m\n\u001b[0;32m     76\u001b[0m \u001b[39mif\u001b[39;00m \u001b[39mnot\u001b[39;00m OTEL_ENABLED \u001b[39mor\u001b[39;00m \u001b[39mnot\u001b[39;00m cnx\u001b[39m.\u001b[39motel_context_propagation:\n\u001b[1;32m---> 77\u001b[0m     \u001b[39mreturn\u001b[39;00m method(cnx, \u001b[39m*\u001b[39;49margs, \u001b[39m*\u001b[39;49m\u001b[39m*\u001b[39;49mkwargs)\n\u001b[0;32m     79\u001b[0m current_span \u001b[39m=\u001b[39m trace\u001b[39m.\u001b[39mget_current_span()\n\u001b[0;32m     80\u001b[0m tp_header \u001b[39m=\u001b[39m \u001b[39mNone\u001b[39;00m\n",
      "File \u001b[1;32mc:\\Users\\ADMIN\\AppData\\Local\\Programs\\Python\\Python311\\Lib\\site-packages\\mysql\\connector\\connection_cext.py:641\u001b[0m, in \u001b[0;36mCMySQLConnection.cmd_query\u001b[1;34m(self, query, raw, buffered, raw_as_string)\u001b[0m\n\u001b[0;32m    633\u001b[0m     \u001b[39mself\u001b[39m\u001b[39m.\u001b[39m_cmysql\u001b[39m.\u001b[39mquery(\n\u001b[0;32m    634\u001b[0m         query,\n\u001b[0;32m    635\u001b[0m         raw\u001b[39m=\u001b[39mraw,\n\u001b[1;32m   (...)\u001b[0m\n\u001b[0;32m    638\u001b[0m         query_attrs\u001b[39m=\u001b[39m\u001b[39mself\u001b[39m\u001b[39m.\u001b[39mquery_attrs,\n\u001b[0;32m    639\u001b[0m     )\n\u001b[0;32m    640\u001b[0m \u001b[39mexcept\u001b[39;00m MySQLInterfaceError \u001b[39mas\u001b[39;00m err:\n\u001b[1;32m--> 641\u001b[0m     \u001b[39mraise\u001b[39;00m get_mysql_exception(\n\u001b[0;32m    642\u001b[0m         err\u001b[39m.\u001b[39merrno, msg\u001b[39m=\u001b[39merr\u001b[39m.\u001b[39mmsg, sqlstate\u001b[39m=\u001b[39merr\u001b[39m.\u001b[39msqlstate\n\u001b[0;32m    643\u001b[0m     ) \u001b[39mfrom\u001b[39;00m \u001b[39merr\u001b[39;00m\n\u001b[0;32m    644\u001b[0m \u001b[39mexcept\u001b[39;00m \u001b[39mAttributeError\u001b[39;00m \u001b[39mas\u001b[39;00m err:\n\u001b[0;32m    645\u001b[0m     addr \u001b[39m=\u001b[39m (\n\u001b[0;32m    646\u001b[0m         \u001b[39mself\u001b[39m\u001b[39m.\u001b[39m_unix_socket \u001b[39mif\u001b[39;00m \u001b[39mself\u001b[39m\u001b[39m.\u001b[39m_unix_socket \u001b[39melse\u001b[39;00m \u001b[39mf\u001b[39m\u001b[39m\"\u001b[39m\u001b[39m{\u001b[39;00m\u001b[39mself\u001b[39m\u001b[39m.\u001b[39m_host\u001b[39m}\u001b[39;00m\u001b[39m:\u001b[39m\u001b[39m{\u001b[39;00m\u001b[39mself\u001b[39m\u001b[39m.\u001b[39m_port\u001b[39m}\u001b[39;00m\u001b[39m\"\u001b[39m\n\u001b[0;32m    647\u001b[0m     )\n",
      "\u001b[1;31mDataError\u001b[0m: 1136 (21S01): Column count doesn't match value count at row 1"
     ]
    }
   ],
   "source": [
    "# Insert data into table: \n",
    "cursorObject. execute(\"INSERT INTO INTERNATIONAL_STUDENT VALUES ('Information_security','INS306203','Wednesday',601, 'Xuan_Thuy')\")\n"
   ]
  }
 ],
 "metadata": {
  "kernelspec": {
   "display_name": "Python 3",
   "language": "python",
   "name": "python3"
  },
  "language_info": {
   "codemirror_mode": {
    "name": "ipython",
    "version": 3
   },
   "file_extension": ".py",
   "mimetype": "text/x-python",
   "name": "python",
   "nbconvert_exporter": "python",
   "pygments_lexer": "ipython3",
   "version": "3.11.1"
  }
 },
 "nbformat": 4,
 "nbformat_minor": 2
}
