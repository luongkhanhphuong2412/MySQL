{
 "cells": [
  {
   "cell_type": "markdown",
   "metadata": {},
   "source": [
    "# Install MySQL connector module\n",
    "pip install mysql-connector-python"
   ]
  },
  {
   "cell_type": "code",
   "execution_count": 1,
   "metadata": {},
   "outputs": [],
   "source": [
    "# importing required libraries\n",
    "import mysql.connector"
   ]
  },
  {
   "cell_type": "code",
   "execution_count": 2,
   "metadata": {},
   "outputs": [
    {
     "name": "stdout",
     "output_type": "stream",
     "text": [
      "<mysql.connector.connection_cext.CMySQLConnection object at 0x000001C82C44AA90>\n"
     ]
    }
   ],
   "source": [
    "database = mysql.connector.connect(\n",
    "  host =\"localhost\",\n",
    "  user =\"root\",\n",
    "  passwd =\"24122004\"\n",
    ")\n",
    " \n",
    "print(database)"
   ]
  },
  {
   "cell_type": "code",
   "execution_count": 3,
   "metadata": {},
   "outputs": [],
   "source": [
    "# preparing a cursor object\n",
    "cursorObject = database.cursor()"
   ]
  },
  {
   "cell_type": "code",
   "execution_count": 4,
   "metadata": {},
   "outputs": [
    {
     "name": "stdout",
     "output_type": "stream",
     "text": [
      "Connected to MySQL Server version  8.1.0\n",
      "Connected to database None\n"
     ]
    }
   ],
   "source": [
    "if database .is_connected():\n",
    "        db_Info = database.get_server_info()\n",
    "        print(\"Connected to MySQL Server version \", db_Info)\n",
    "        cursor = database.cursor()\n",
    "        #Use the cursor() method of a MySQLConnection object to create a cursor object to perform various SQL operations.\n",
    "        # The execute() methods run the SQL query and return the result.\n",
    "        cursor.execute(\"USE STUDENT_INFORMATION;\")\n",
    "\n",
    "        # Extract results: \n",
    "        record = cursor.fetchone()     \n",
    "        print(\"Connected to database\", record)"
   ]
  },
  {
   "cell_type": "code",
   "execution_count": 5,
   "metadata": {},
   "outputs": [],
   "source": [
    "# creating database\n",
    "cursorObject.execute(\"DROP DATABASE IF EXISTS STUDENT_INFORMATION\")\n"
   ]
  },
  {
   "cell_type": "code",
   "execution_count": 6,
   "metadata": {},
   "outputs": [],
   "source": [
    "cursorObject.execute(\"CREATE DATABASE STUDENT_INFORMATION\")"
   ]
  },
  {
   "cell_type": "code",
   "execution_count": 7,
   "metadata": {},
   "outputs": [
    {
     "name": "stdout",
     "output_type": "stream",
     "text": [
      "Student Record created successfully \n"
     ]
    }
   ],
   "source": [
    "# Creating table: \n",
    "\n",
    "cursor.execute(\"USE STUDENT_INFORMATION;\")\n",
    "studentRecord = \"\"\"CREATE TABLE INTERNATIONAL_STUDENT( \n",
    "    NAME VARCHAR(20) NOT NULL,\n",
    "STUDENT_ID INT NOT NULL, \n",
    "ADDRESS VARCHAR(50),\n",
    "GENDER VARCHAR(50),\n",
    "AGE INT , \n",
    "RELATIONSHIP VARCHAR(50))\"\"\"\n",
    "\n",
    "# Notify: \n",
    "\n",
    "cursor = database.cursor()\n",
    "Result = cursor.execute(studentRecord)\n",
    "print(\"Student Record created successfully \")"
   ]
  },
  {
   "cell_type": "code",
   "execution_count": 8,
   "metadata": {},
   "outputs": [
    {
     "name": "stdout",
     "output_type": "stream",
     "text": [
      "Insert completed\n"
     ]
    }
   ],
   "source": [
    "# Insert data into table: \n",
    "cursorObject. execute(\"INSERT INTO INTERNATIONAL_STUDENT VALUES ('Phuong', 22070782,'Hanoi','Female', 18, 'In a relationship')\")\n",
    "cursorObject. execute(\"INSERT INTO INTERNATIONAL_STUDENT VALUES ('An', 22070632,'Thai_Binh','Male', 19, 'In a relationship')\")\n",
    "cursorObject.execute(\"INSERT INTO INTERNATIONAL_STUDENT VALUES ('PA', 22070645,'Hoa_Binh','Female', 19, 'In a relationship')\")\n",
    "cursorObject.execute(\"INSERT INTO INTERNATIONAL_STUDENT VALUES ('Ninh_Hai', 2207082,'Hai_Duong','Female', 19, 'In a relationship')\")\n",
    "cursorObject.execute(\"INSERT INTO INTERNATIONAL_STUDENT VALUES ('Duc_Nam', 21060742,'Tuyen_Quang','Male', 20, 'Single')\")\n",
    "print(\"Insert completed\")\n",
    "database.commit()"
   ]
  },
  {
   "cell_type": "code",
   "execution_count": 9,
   "metadata": {},
   "outputs": [],
   "source": [
    "cursorObject. execute(\"INSERT INTO INTERNATIONAL_STUDENT VALUES ('Phuong', 22070782,'Hanoi','Female', 18, 'In a relationship')\")"
   ]
  },
  {
   "cell_type": "code",
   "execution_count": 15,
   "metadata": {},
   "outputs": [
    {
     "name": "stdout",
     "output_type": "stream",
     "text": [
      "('Phuong', 22070782, 'Hanoi', 'Female', 18, 'In a relationship')\n",
      "('An', 22070632, 'Thai_Binh', 'Male', 19, 'In a relationship')\n",
      "('PA', 22070645, 'Hoa_Binh', 'Female', 19, 'In a relationship')\n",
      "('Ninh_Hai', 2207082, 'Hai_Duong', 'Female', 19, 'In a relationship')\n",
      "('Duc_Nam', 21060742, 'Tuyen_Quang', 'Male', 20, 'Single')\n",
      "('Phuong', 22070782, 'Hanoi', 'Female', 18, 'In a relationship')\n"
     ]
    }
   ],
   "source": [
    "# Way 1: \n",
    "\n",
    "cursorObject= database. cursor()\n",
    "information_select= \"\"\"SELECT * FROM INTERNATIONAL_STUDENT\"\"\"\n",
    "cursorObject.execute(information_select)\n",
    "student_data= cursorObject.fetchall()\n",
    "for i in student_data:\n",
    "    print(i)\n"
   ]
  },
  {
   "cell_type": "code",
   "execution_count": 14,
   "metadata": {},
   "outputs": [
    {
     "name": "stdout",
     "output_type": "stream",
     "text": [
      "('Phuong', 22070782, 'Hanoi', 'Female', 18, 'In a relationship')\n",
      "('An', 22070632, 'Thai_Binh', 'Male', 19, 'In a relationship')\n",
      "('PA', 22070645, 'Hoa_Binh', 'Female', 19, 'In a relationship')\n",
      "('Ninh_Hai', 2207082, 'Hai_Duong', 'Female', 19, 'In a relationship')\n",
      "('Duc_Nam', 21060742, 'Tuyen_Quang', 'Male', 20, 'Single')\n",
      "('Phuong', 22070782, 'Hanoi', 'Female', 18, 'In a relationship')\n"
     ]
    }
   ],
   "source": [
    "# Way 2: \n",
    "cursorObject.execute(\"\"\"SELECT * FROM INTERNATIONAL_STUDENT\"\"\")\n",
    "student_data= cursorObject.fetchall()\n",
    "for i in student_data: \n",
    "    print(i)"
   ]
  },
  {
   "cell_type": "code",
   "execution_count": 26,
   "metadata": {},
   "outputs": [
    {
     "name": "stdout",
     "output_type": "stream",
     "text": [
      "Updated sucessfully\n"
     ]
    }
   ],
   "source": [
    "# Update data: \n",
    "student_update = \"UPDATE INTERNATIONAL_STUDENT SET AGE = 21 WHERE NAME = 'Duc_Nam'\"\n",
    "cursorObject.execute(student_update)\n",
    "database.commit()\n",
    "print(\"Updated sucessfully\")"
   ]
  },
  {
   "cell_type": "code",
   "execution_count": 35,
   "metadata": {},
   "outputs": [
    {
     "name": "stdout",
     "output_type": "stream",
     "text": [
      "('An', 22070632, 'Thai_Binh', 'Male', 19, 'In a relationship')\n",
      "('PA', 22070645, 'Hoa_Binh', 'Female', 19, 'In a relationship')\n",
      "('Ninh_Hai', 2207082, 'Hai_Duong', 'Female', 19, 'In a relationship')\n",
      "('Duc_Nam', 21060742, 'Tuyen_Quang', 'Male', 21, 'Single')\n",
      "('Phuong', 22070782, 'Hanoi', 'Female', 18, 'In a relationship')\n"
     ]
    }
   ],
   "source": [
    "cursorObject.execute(\"\"\"SELECT * FROM INTERNATIONAL_STUDENT\"\"\")\n",
    "student_data= cursorObject.fetchall()\n",
    "for i in student_data: \n",
    "    print(i)"
   ]
  },
  {
   "cell_type": "code",
   "execution_count": 34,
   "metadata": {},
   "outputs": [],
   "source": [
    "# DELETE DATA FROM TABLE: \n",
    "query = \"DELETE FROM INTERNATIONAL_STUDENT WHERE NAME = 'Phuong'\"\n",
    "cursorObject.execute(query)\n",
    "database.commit()\n",
    "cursorObject. execute(\"INSERT INTO INTERNATIONAL_STUDENT VALUES ('Phuong', 22070782,'Hanoi','Female', 18, 'In a relationship')\")\n"
   ]
  },
  {
   "cell_type": "code",
   "execution_count": null,
   "metadata": {},
   "outputs": [],
   "source": []
  }
 ],
 "metadata": {
  "kernelspec": {
   "display_name": "Python 3",
   "language": "python",
   "name": "python3"
  },
  "language_info": {
   "codemirror_mode": {
    "name": "ipython",
    "version": 3
   },
   "file_extension": ".py",
   "mimetype": "text/x-python",
   "name": "python",
   "nbconvert_exporter": "python",
   "pygments_lexer": "ipython3",
   "version": "3.11.1"
  }
 },
 "nbformat": 4,
 "nbformat_minor": 2
}
