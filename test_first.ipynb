{
 "cells": [
  {
   "cell_type": "markdown",
   "metadata": {},
   "source": [
    "# Install MySQL connector module\n",
    "pip install mysql-connector-python"
   ]
  },
  {
   "cell_type": "code",
   "execution_count": 71,
   "metadata": {},
   "outputs": [],
   "source": [
    "# importing required libraries\n",
    "import mysql.connector"
   ]
  },
  {
   "cell_type": "code",
   "execution_count": 72,
   "metadata": {},
   "outputs": [
    {
     "name": "stdout",
     "output_type": "stream",
     "text": [
      "<mysql.connector.connection_cext.CMySQLConnection object at 0x0000028693B1ECD0>\n"
     ]
    }
   ],
   "source": [
    "database = mysql.connector.connect(\n",
    "  host =\"localhost\",\n",
    "  user =\"root\",\n",
    "  passwd =\"24122004\"\n",
    ")\n",
    " \n",
    "print(database)"
   ]
  },
  {
   "cell_type": "code",
   "execution_count": 73,
   "metadata": {},
   "outputs": [],
   "source": [
    "# preparing a cursor object\n",
    "cursorObject = database.cursor()"
   ]
  },
  {
   "cell_type": "code",
   "execution_count": 76,
   "metadata": {},
   "outputs": [],
   "source": [
    "# Create databse\n",
    "cursorObject.execute(\"CREATE DATABASE STUDENT_INFORMATION\")"
   ]
  },
  {
   "cell_type": "code",
   "execution_count": 77,
   "metadata": {},
   "outputs": [
    {
     "name": "stdout",
     "output_type": "stream",
     "text": [
      "Connected to MySQL Server version  8.1.0\n",
      "Connected to database None\n"
     ]
    }
   ],
   "source": [
    "# Connect to database: \n",
    "\n",
    "if database .is_connected():\n",
    "        db_Info = database.get_server_info()\n",
    "        print(\"Connected to MySQL Server version \", db_Info)\n",
    "        cursor = database.cursor()\n",
    "        #Use the cursor() method of a MySQLConnection object to create a cursor object to perform various SQL operations.\n",
    "        # The execute() methods run the SQL query and return the result.\n",
    "        cursor.execute(\"USE STUDENT_INFORMATION;\")\n",
    "\n",
    "        # Extract results: \n",
    "        record = cursor.fetchone()     \n",
    "        print(\"Connected to database\", record)"
   ]
  },
  {
   "cell_type": "code",
   "execution_count": 75,
   "metadata": {},
   "outputs": [
    {
     "name": "stdout",
     "output_type": "stream",
     "text": [
      "Drop database\n"
     ]
    }
   ],
   "source": [
    "# Drop database\n",
    "try: \n",
    "    cursorObject.execute(\"DROP DATABASE IF EXISTS STUDENT_INFORMATION\")\n",
    "    print(\"Drop database\")\n",
    "except: \n",
    "    database.rollback()    # Roll back database\n"
   ]
  },
  {
   "cell_type": "code",
   "execution_count": 30,
   "metadata": {},
   "outputs": [],
   "source": [
    "# Create databse\n",
    "cursorObject.execute(\"CREATE DATABASE STUDENT_INFORMATION\")"
   ]
  },
  {
   "cell_type": "code",
   "execution_count": 94,
   "metadata": {},
   "outputs": [
    {
     "name": "stdout",
     "output_type": "stream",
     "text": [
      "Table CLASSES created successfully \n"
     ]
    }
   ],
   "source": [
    "# Create table Classes: \n",
    "cursor.execute(\"USE STUDENT_INFORMATION;\")\n",
    "courses = \"\"\"CREATE TABLE CLASSES( \n",
    "    COURSE_TITLE VARCHAR(225) NOT NULL,\n",
    "    COURSE_ID VARCHAR(50) NOT NULL,\n",
    "    PRIMARY KEY(COURSE_ID),\n",
    "    SCHEDULE varchar(225),\n",
    "    ROOM int,\n",
    "    LOCATION varchar(225))\"\"\"\n",
    "\n",
    "# Notify: \n",
    "\n",
    "cursor = database.cursor()\n",
    "Result = cursor.execute(courses)\n",
    "print(\"Table CLASSES created successfully \")"
   ]
  },
  {
   "cell_type": "code",
   "execution_count": 95,
   "metadata": {},
   "outputs": [
    {
     "name": "stdout",
     "output_type": "stream",
     "text": [
      "Student Record created successfully \n"
     ]
    }
   ],
   "source": [
    "# Create table international student: \n",
    "\n",
    "# add foreign key class ID references course ID in table classes\n",
    "\n",
    "cursor.execute(\"USE STUDENT_INFORMATION;\")\n",
    "studentRecord = \"\"\"CREATE TABLE INTERNATIONAL_STUDENT( \n",
    "    NAME VARCHAR(20) NOT NULL,\n",
    "    STUDENT_ID INT NOT NULL AUTO_INCREMENT, \n",
    "    PRIMARY KEY(STUDENT_ID),\n",
    "    ADDRESS VARCHAR(50),\n",
    "    GENDER VARCHAR(50),\n",
    "    AGE INT, \n",
    "    CLASS_ID VARCHAR(50),\n",
    "    INDEX (CLASS_ID),\n",
    "    FOREIGN KEY (CLASS_ID) REFERENCES CLASSES(COURSE_ID))\"\"\"\n",
    "\n",
    "# Notify: \n",
    "\n",
    "cursor = database.cursor()\n",
    "Result = cursor.execute(studentRecord)\n",
    "print(\"Student Record created successfully \")"
   ]
  },
  {
   "cell_type": "code",
   "execution_count": 92,
   "metadata": {},
   "outputs": [],
   "source": [
    "cursorObject.execute(\"drop table international_student;\")"
   ]
  },
  {
   "cell_type": "code",
   "execution_count": 93,
   "metadata": {},
   "outputs": [],
   "source": [
    "cursorObject.execute(\"drop table classes;\")"
   ]
  },
  {
   "cell_type": "code",
   "execution_count": 96,
   "metadata": {},
   "outputs": [],
   "source": [
    "# Insert data into table Classes: \n",
    "cursorObject. execute(\"INSERT INTO CLASSES (COURSE_TITLE, COURSE_ID, SCHEDULE, ROOM, LOCATION) VALUES ('Information_security','INS306203','Wednesday',601,'Xuan_Thuy')\")\n",
    "cursorObject. execute(\"INSERT INTO CLASSES (COURSE_TITLE, COURSE_ID, SCHEDULE, ROOM, LOCATION) VALUES ('Economic_Statistics','INS200401','Monday',402,'TVB')\")\n",
    "cursorObject. execute(\"INSERT INTO CLASSES (COURSE_TITLE, COURSE_ID, SCHEDULE, ROOM, LOCATION) VALUES ('Advanced_Mathematics','MAT109207','Tuesday',601,'Hacinco')\")\n",
    "cursorObject. execute(\"INSERT INTO CLASSES (COURSE_TITLE, COURSE_ID, SCHEDULE, ROOM, LOCATION) VALUES ('Microeconomics','INE105005','Wednesday',601,'Xuan_Thuy')\")\n",
    "cursorObject. execute(\"INSERT INTO CLASSES (COURSE_TITLE, COURSE_ID, SCHEDULE, ROOM, LOCATION) VALUES ('Fundamentals_of_Finance','INS201505','Tuesday',407,'TVB')\")\n",
    "cursorObject. execute(\"INSERT INTO CLASSES (COURSE_TITLE, COURSE_ID, SCHEDULE, ROOM, LOCATION) VALUES ('Introduction_to_Data Science','INS325401','Thursday',604,'TVB')\")\n",
    "cursorObject. execute(\"INSERT INTO CLASSES (COURSE_TITLE, COURSE_ID, SCHEDULE, ROOM, LOCATION) VALUES ('Econometrics','INS304902','Thursday',506,'Hacinco')\")\n",
    "cursorObject. execute(\"INSERT INTO CLASSES (COURSE_TITLE, COURSE_ID, SCHEDULE, ROOM, LOCATION) VALUES ('Databases','INS208004','Wednesday',401,'TVB')\")"
   ]
  },
  {
   "cell_type": "code",
   "execution_count": 98,
   "metadata": {},
   "outputs": [
    {
     "name": "stdout",
     "output_type": "stream",
     "text": [
      "Insert completed\n"
     ]
    }
   ],
   "source": [
    "# Insert data into table International_student: \n",
    "cursorObject. execute(\"INSERT INTO INTERNATIONAL_STUDENT (NAME, ADDRESS, GENDER, AGE, CLASS_ID) VALUES ('Phuong','Hanoi','Female', 18, 'INS306203')\")\n",
    "cursorObject. execute(\"INSERT INTO INTERNATIONAL_STUDENT(NAME, ADDRESS, GENDER, AGE, CLASS_ID) VALUES ('An','Thai_Binh','Male', 19, 'INS200401')\")\n",
    "cursorObject.execute(\"INSERT INTO INTERNATIONAL_STUDENT (NAME, ADDRESS, GENDER, AGE, CLASS_ID) VALUES ('PA','Hoa_Binh','Female', 19, 'MAT109207')\")\n",
    "cursorObject.execute(\"INSERT INTO INTERNATIONAL_STUDENT (NAME, ADDRESS, GENDER, AGE, CLASS_ID) VALUES ('Ninh_Hai','Hai_Duong','Female', 19,'INE105005')\")\n",
    "cursorObject.execute(\"INSERT INTO INTERNATIONAL_STUDENT (NAME, ADDRESS, GENDER, AGE, CLASS_ID) VALUES ('Duc_Nam','Tuyen_Quang','Male', 20,'INS201505')\")\n",
    "cursorObject. execute(\"INSERT INTO INTERNATIONAL_STUDENT (NAME, ADDRESS, GENDER, AGE, CLASS_ID) VALUES ('Hoa_Ngoc','Hung_Yen','Female', 19, 'INS325401')\")\n",
    "cursorObject. execute(\"INSERT INTO INTERNATIONAL_STUDENT (NAME, ADDRESS, GENDER, AGE, CLASS_ID) VALUES ('Thanh_Phuong','Nam_Dinh','Male', 20,'INS304902')\")\n",
    "cursorObject. execute(\"INSERT INTO INTERNATIONAL_STUDENT (NAME, ADDRESS, GENDER, AGE, CLASS_ID) VALUES ('Trung','Ha_Noi','Male', 22,'INS208004')\")\n",
    "\n",
    "print(\"Insert completed\")"
   ]
  },
  {
   "cell_type": "code",
   "execution_count": 99,
   "metadata": {},
   "outputs": [
    {
     "name": "stdout",
     "output_type": "stream",
     "text": [
      "('Phuong', 1, 'Hanoi', 'Female', 18, 'INS306203')\n",
      "('An', 2, 'Thai_Binh', 'Male', 19, 'INS200401')\n",
      "('Phuong', 3, 'Hanoi', 'Female', 18, 'INS306203')\n",
      "('An', 4, 'Thai_Binh', 'Male', 19, 'INS200401')\n",
      "('PA', 5, 'Hoa_Binh', 'Female', 19, 'MAT109207')\n",
      "('Ninh_Hai', 6, 'Hai_Duong', 'Female', 19, 'INE105005')\n",
      "('Duc_Nam', 7, 'Tuyen_Quang', 'Male', 20, 'INS201505')\n",
      "('Hoa_Ngoc', 8, 'Hung_Yen', 'Female', 19, 'INS325401')\n",
      "('Thanh_Phuong', 9, 'Nam_Dinh', 'Male', 20, 'INS304902')\n",
      "('Trung', 10, 'Ha_Noi', 'Male', 22, 'INS208004')\n"
     ]
    }
   ],
   "source": [
    "# Print data from table International student: \n",
    "cursorObject.execute(\"\"\"SELECT * FROM INTERNATIONAL_STUDENT\"\"\")\n",
    "student_data= cursorObject.fetchall()\n",
    "for i in student_data: \n",
    "    print(i)"
   ]
  },
  {
   "cell_type": "code",
   "execution_count": 101,
   "metadata": {},
   "outputs": [
    {
     "name": "stdout",
     "output_type": "stream",
     "text": [
      "('Microeconomics', 'INE105005', 'Wednesday', 601, 'Xuan_Thuy')\n",
      "('Economic_Statistics', 'INS200401', 'Monday', 402, 'TVB')\n",
      "('Fundamentals_of_Finance', 'INS201505', 'Tuesday', 407, 'TVB')\n",
      "('Databases', 'INS208004', 'Wednesday', 401, 'TVB')\n",
      "('Econometrics', 'INS304902', 'Thursday', 506, 'Hacinco')\n",
      "('Information_security', 'INS306203', 'Wednesday', 601, 'Xuan_Thuy')\n",
      "('Introduction_to_Data Science', 'INS325401', 'Thursday', 604, 'TVB')\n",
      "('Advanced_Mathematics', 'MAT109207', 'Tuesday', 601, 'Hacinco')\n"
     ]
    }
   ],
   "source": [
    "# Print the table Classes: \n",
    "cursorObject.execute(\"\"\"SELECT * FROM CLASSES\"\"\")\n",
    "student_data= cursorObject.fetchall()\n",
    "for i in student_data: \n",
    "    print(i)"
   ]
  },
  {
   "cell_type": "code",
   "execution_count": 102,
   "metadata": {},
   "outputs": [
    {
     "name": "stdout",
     "output_type": "stream",
     "text": [
      "Updated sucessfully\n"
     ]
    }
   ],
   "source": [
    "# Update data: \n",
    "student_update = \"UPDATE INTERNATIONAL_STUDENT SET AGE = 21 WHERE NAME = 'Duc_Nam'\"\n",
    "cursorObject.execute(student_update)\n",
    "database.commit()\n",
    "print(\"Updated sucessfully\")"
   ]
  },
  {
   "cell_type": "code",
   "execution_count": 103,
   "metadata": {},
   "outputs": [],
   "source": [
    "# DELETE DATA FROM TABLE: \n",
    "query = \"DELETE FROM INTERNATIONAL_STUDENT WHERE STUDENT_ID = 3\"\n",
    "cursorObject.execute(query)\n",
    "database.commit()\n",
    "\n"
   ]
  },
  {
   "cell_type": "code",
   "execution_count": 104,
   "metadata": {},
   "outputs": [
    {
     "name": "stdout",
     "output_type": "stream",
     "text": [
      "('Phuong', 1, 'Hanoi', 'Female', 18, 'INS306203')\n",
      "('An', 2, 'Thai_Binh', 'Male', 19, 'INS200401')\n",
      "('An', 4, 'Thai_Binh', 'Male', 19, 'INS200401')\n",
      "('PA', 5, 'Hoa_Binh', 'Female', 19, 'MAT109207')\n",
      "('Ninh_Hai', 6, 'Hai_Duong', 'Female', 19, 'INE105005')\n",
      "('Duc_Nam', 7, 'Tuyen_Quang', 'Male', 21, 'INS201505')\n",
      "('Hoa_Ngoc', 8, 'Hung_Yen', 'Female', 19, 'INS325401')\n",
      "('Thanh_Phuong', 9, 'Nam_Dinh', 'Male', 20, 'INS304902')\n",
      "('Trung', 10, 'Ha_Noi', 'Male', 22, 'INS208004')\n"
     ]
    }
   ],
   "source": [
    "# Print data again from table International student: \n",
    "cursorObject.execute(\"\"\"SELECT * FROM INTERNATIONAL_STUDENT\"\"\")\n",
    "student_data= cursorObject.fetchall()\n",
    "for i in student_data: \n",
    "    print(i)"
   ]
  },
  {
   "cell_type": "code",
   "execution_count": 48,
   "metadata": {},
   "outputs": [
    {
     "ename": "InternalError",
     "evalue": "Unread result found",
     "output_type": "error",
     "traceback": [
      "\u001b[1;31m---------------------------------------------------------------------------\u001b[0m",
      "\u001b[1;31mInternalError\u001b[0m                             Traceback (most recent call last)",
      "\u001b[1;32md:\\MySQL\\test_first.ipynb Cell 19\u001b[0m line \u001b[0;36m1\n\u001b[1;32m----> <a href='vscode-notebook-cell:/d%3A/MySQL/test_first.ipynb#X24sZmlsZQ%3D%3D?line=0'>1</a>\u001b[0m cursorObject\u001b[39m.\u001b[39;49mexecute(\u001b[39m\"\"\"\u001b[39;49m\u001b[39mSELECT INTERNATIONAL_STUDENT.NAME,CLASSES.COURSE_TITLE\u001b[39;49m\n\u001b[0;32m      <a href='vscode-notebook-cell:/d%3A/MySQL/test_first.ipynb#X24sZmlsZQ%3D%3D?line=1'>2</a>\u001b[0m \u001b[39m                     FROM INTERNATIONAL_STUDENT\u001b[39;49m\n\u001b[0;32m      <a href='vscode-notebook-cell:/d%3A/MySQL/test_first.ipynb#X24sZmlsZQ%3D%3D?line=2'>3</a>\u001b[0m \u001b[39m                     CROSS JOIN CLASSES\u001b[39;49m\n\u001b[0;32m      <a href='vscode-notebook-cell:/d%3A/MySQL/test_first.ipynb#X24sZmlsZQ%3D%3D?line=3'>4</a>\u001b[0m \u001b[39m                     WHERE INTERNATIONAL_STUDENT.CLASS_ID= CLASSES.CLASS_ID\u001b[39;49m\u001b[39m\"\"\"\u001b[39;49m)\n",
      "File \u001b[1;32mc:\\Users\\ADMIN\\AppData\\Local\\Programs\\Python\\Python311\\Lib\\site-packages\\mysql\\connector\\cursor_cext.py:303\u001b[0m, in \u001b[0;36mCMySQLCursor.execute\u001b[1;34m(self, operation, params, multi)\u001b[0m\n\u001b[0;32m    301\u001b[0m \u001b[39mexcept\u001b[39;00m (ProgrammingError, \u001b[39mReferenceError\u001b[39;00m) \u001b[39mas\u001b[39;00m err:\n\u001b[0;32m    302\u001b[0m     \u001b[39mraise\u001b[39;00m ProgrammingError(\u001b[39m\"\u001b[39m\u001b[39mCursor is not connected\u001b[39m\u001b[39m\"\u001b[39m, \u001b[39m2055\u001b[39m) \u001b[39mfrom\u001b[39;00m \u001b[39merr\u001b[39;00m\n\u001b[1;32m--> 303\u001b[0m \u001b[39mself\u001b[39;49m\u001b[39m.\u001b[39;49m_cnx\u001b[39m.\u001b[39;49mhandle_unread_result()\n\u001b[0;32m    305\u001b[0m stmt \u001b[39m=\u001b[39m \u001b[39m\"\u001b[39m\u001b[39m\"\u001b[39m\n\u001b[0;32m    306\u001b[0m \u001b[39mself\u001b[39m\u001b[39m.\u001b[39mreset()\n",
      "File \u001b[1;32mc:\\Users\\ADMIN\\AppData\\Local\\Programs\\Python\\Python311\\Lib\\site-packages\\mysql\\connector\\connection_cext.py:955\u001b[0m, in \u001b[0;36mCMySQLConnection.handle_unread_result\u001b[1;34m(self, prepared)\u001b[0m\n\u001b[0;32m    953\u001b[0m     \u001b[39mself\u001b[39m\u001b[39m.\u001b[39mconsume_results()\n\u001b[0;32m    954\u001b[0m \u001b[39melif\u001b[39;00m unread_result:\n\u001b[1;32m--> 955\u001b[0m     \u001b[39mraise\u001b[39;00m InternalError(\u001b[39m\"\u001b[39m\u001b[39mUnread result found\u001b[39m\u001b[39m\"\u001b[39m)\n",
      "\u001b[1;31mInternalError\u001b[0m: Unread result found"
     ]
    }
   ],
   "source": [
    "cursorObject.execute(\"\"\"SELECT INTERNATIONAL_STUDENT.NAME,CLASSES.COURSE_TITLE\n",
    "                     FROM INTERNATIONAL_STUDENT\n",
    "                     CROSS JOIN CLASSES\n",
    "                     WHERE INTERNATIONAL_STUDENT.CLASS_ID= CLASSES.CLASS_ID\"\"\")\n",
    "\n",
    "\n"
   ]
  }
 ],
 "metadata": {
  "kernelspec": {
   "display_name": "Python 3",
   "language": "python",
   "name": "python3"
  },
  "language_info": {
   "codemirror_mode": {
    "name": "ipython",
    "version": 3
   },
   "file_extension": ".py",
   "mimetype": "text/x-python",
   "name": "python",
   "nbconvert_exporter": "python",
   "pygments_lexer": "ipython3",
   "version": "3.11.1"
  }
 },
 "nbformat": 4,
 "nbformat_minor": 2
}
